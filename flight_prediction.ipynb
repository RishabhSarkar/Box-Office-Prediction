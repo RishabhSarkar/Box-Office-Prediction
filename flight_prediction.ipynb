{
  "nbformat": 4,
  "nbformat_minor": 0,
  "metadata": {
    "kernelspec": {
      "display_name": "Python 3",
      "language": "python",
      "name": "python3"
    },
    "language_info": {
      "codemirror_mode": {
        "name": "ipython",
        "version": 3
      },
      "file_extension": ".py",
      "mimetype": "text/x-python",
      "name": "python",
      "nbconvert_exporter": "python",
      "pygments_lexer": "ipython3",
      "version": "3.7.4"
    },
    "colab": {
      "name": "flight-prediction.ipynb",
      "provenance": [],
      "include_colab_link": true
    }
  },
  "cells": [
    {
      "cell_type": "markdown",
      "metadata": {
        "id": "view-in-github",
        "colab_type": "text"
      },
      "source": [
        "<a href=\"https://colab.research.google.com/github/RishabhSarkar/Box-Office-Prediction/blob/master/flight_prediction.ipynb\" target=\"_parent\"><img src=\"https://colab.research.google.com/assets/colab-badge.svg\" alt=\"Open In Colab\"/></a>"
      ]
    },
    {
      "cell_type": "markdown",
      "metadata": {
        "id": "wvtuCgBuZIAS",
        "colab_type": "text"
      },
      "source": [
        "# Flight Prediction"
      ]
    },
    {
      "cell_type": "code",
      "metadata": {
        "id": "rsh3t8dPZIAW",
        "colab_type": "code",
        "colab": {}
      },
      "source": [
        "import pandas as pd\n",
        "import numpy as np\n",
        "import matplotlib.pyplot as plt"
      ],
      "execution_count": 0,
      "outputs": []
    },
    {
      "cell_type": "code",
      "metadata": {
        "id": "9kOqQaOpZIAi",
        "colab_type": "code",
        "colab": {}
      },
      "source": [
        "data = pd.read_excel('Data_Train.xlsx')"
      ],
      "execution_count": 0,
      "outputs": []
    },
    {
      "cell_type": "code",
      "metadata": {
        "id": "g2SNwZP6ZIAt",
        "colab_type": "code",
        "colab": {},
        "outputId": "706e7f94-269d-45dd-e000-0b71ad1b0c08"
      },
      "source": [
        "data.head()"
      ],
      "execution_count": 0,
      "outputs": [
        {
          "output_type": "execute_result",
          "data": {
            "text/html": [
              "<div>\n",
              "<style scoped>\n",
              "    .dataframe tbody tr th:only-of-type {\n",
              "        vertical-align: middle;\n",
              "    }\n",
              "\n",
              "    .dataframe tbody tr th {\n",
              "        vertical-align: top;\n",
              "    }\n",
              "\n",
              "    .dataframe thead th {\n",
              "        text-align: right;\n",
              "    }\n",
              "</style>\n",
              "<table border=\"1\" class=\"dataframe\">\n",
              "  <thead>\n",
              "    <tr style=\"text-align: right;\">\n",
              "      <th></th>\n",
              "      <th>Airline</th>\n",
              "      <th>Date_of_Journey</th>\n",
              "      <th>Source</th>\n",
              "      <th>Destination</th>\n",
              "      <th>Route</th>\n",
              "      <th>Dep_Time</th>\n",
              "      <th>Arrival_Time</th>\n",
              "      <th>Duration</th>\n",
              "      <th>Total_Stops</th>\n",
              "      <th>Additional_Info</th>\n",
              "      <th>Price</th>\n",
              "    </tr>\n",
              "  </thead>\n",
              "  <tbody>\n",
              "    <tr>\n",
              "      <td>0</td>\n",
              "      <td>IndiGo</td>\n",
              "      <td>24/03/2019</td>\n",
              "      <td>Banglore</td>\n",
              "      <td>New Delhi</td>\n",
              "      <td>BLR → DEL</td>\n",
              "      <td>22:20</td>\n",
              "      <td>01:10 22 Mar</td>\n",
              "      <td>2h 50m</td>\n",
              "      <td>non-stop</td>\n",
              "      <td>No info</td>\n",
              "      <td>3897</td>\n",
              "    </tr>\n",
              "    <tr>\n",
              "      <td>1</td>\n",
              "      <td>Air India</td>\n",
              "      <td>1/05/2019</td>\n",
              "      <td>Kolkata</td>\n",
              "      <td>Banglore</td>\n",
              "      <td>CCU → IXR → BBI → BLR</td>\n",
              "      <td>05:50</td>\n",
              "      <td>13:15</td>\n",
              "      <td>7h 25m</td>\n",
              "      <td>2 stops</td>\n",
              "      <td>No info</td>\n",
              "      <td>7662</td>\n",
              "    </tr>\n",
              "    <tr>\n",
              "      <td>2</td>\n",
              "      <td>Jet Airways</td>\n",
              "      <td>9/06/2019</td>\n",
              "      <td>Delhi</td>\n",
              "      <td>Cochin</td>\n",
              "      <td>DEL → LKO → BOM → COK</td>\n",
              "      <td>09:25</td>\n",
              "      <td>04:25 10 Jun</td>\n",
              "      <td>19h</td>\n",
              "      <td>2 stops</td>\n",
              "      <td>No info</td>\n",
              "      <td>13882</td>\n",
              "    </tr>\n",
              "    <tr>\n",
              "      <td>3</td>\n",
              "      <td>IndiGo</td>\n",
              "      <td>12/05/2019</td>\n",
              "      <td>Kolkata</td>\n",
              "      <td>Banglore</td>\n",
              "      <td>CCU → NAG → BLR</td>\n",
              "      <td>18:05</td>\n",
              "      <td>23:30</td>\n",
              "      <td>5h 25m</td>\n",
              "      <td>1 stop</td>\n",
              "      <td>No info</td>\n",
              "      <td>6218</td>\n",
              "    </tr>\n",
              "    <tr>\n",
              "      <td>4</td>\n",
              "      <td>IndiGo</td>\n",
              "      <td>01/03/2019</td>\n",
              "      <td>Banglore</td>\n",
              "      <td>New Delhi</td>\n",
              "      <td>BLR → NAG → DEL</td>\n",
              "      <td>16:50</td>\n",
              "      <td>21:35</td>\n",
              "      <td>4h 45m</td>\n",
              "      <td>1 stop</td>\n",
              "      <td>No info</td>\n",
              "      <td>13302</td>\n",
              "    </tr>\n",
              "  </tbody>\n",
              "</table>\n",
              "</div>"
            ],
            "text/plain": [
              "       Airline Date_of_Journey    Source Destination                  Route  \\\n",
              "0       IndiGo      24/03/2019  Banglore   New Delhi              BLR → DEL   \n",
              "1    Air India       1/05/2019   Kolkata    Banglore  CCU → IXR → BBI → BLR   \n",
              "2  Jet Airways       9/06/2019     Delhi      Cochin  DEL → LKO → BOM → COK   \n",
              "3       IndiGo      12/05/2019   Kolkata    Banglore        CCU → NAG → BLR   \n",
              "4       IndiGo      01/03/2019  Banglore   New Delhi        BLR → NAG → DEL   \n",
              "\n",
              "  Dep_Time  Arrival_Time Duration Total_Stops Additional_Info  Price  \n",
              "0    22:20  01:10 22 Mar   2h 50m    non-stop         No info   3897  \n",
              "1    05:50         13:15   7h 25m     2 stops         No info   7662  \n",
              "2    09:25  04:25 10 Jun      19h     2 stops         No info  13882  \n",
              "3    18:05         23:30   5h 25m      1 stop         No info   6218  \n",
              "4    16:50         21:35   4h 45m      1 stop         No info  13302  "
            ]
          },
          "metadata": {
            "tags": []
          },
          "execution_count": 151
        }
      ]
    },
    {
      "cell_type": "code",
      "metadata": {
        "id": "9SCjhSjLZIA4",
        "colab_type": "code",
        "colab": {},
        "outputId": "ea13eef2-0517-4e8e-f282-54aed0a20c02"
      },
      "source": [
        "data.shape"
      ],
      "execution_count": 0,
      "outputs": [
        {
          "output_type": "execute_result",
          "data": {
            "text/plain": [
              "(10683, 11)"
            ]
          },
          "metadata": {
            "tags": []
          },
          "execution_count": 152
        }
      ]
    },
    {
      "cell_type": "markdown",
      "metadata": {
        "id": "gQJX1u5lZIBA",
        "colab_type": "text"
      },
      "source": [
        "**Comment** : There are 10,683 flight records, and 11 features. <br>\n",
        "- Airline: String (Flight company)\n",
        "- Date of Journey (Date)\n",
        "- Dep Time/ Arrival Time/ Duration (Flight time)\n",
        "- Source/Destination/Route/ Total Stops (Flight path)\n",
        "- Additional info\n",
        "- Price (Target feature)\n",
        "<br>\n",
        "\n",
        "**According to me**: <br>\n",
        "- Source and Destination is not required. It is covered in Route.\n",
        "- The route needs to be converted into meaningful features.\n",
        "- Total stops and Route are somewhat related\n",
        "- Out of Dep Time/ Arrival Time and Duration, only two features are important. The third one is dependent on other two.\n",
        "- Additional info is mostly a sparse feature"
      ]
    },
    {
      "cell_type": "markdown",
      "metadata": {
        "id": "PKanUiRhZIBC",
        "colab_type": "text"
      },
      "source": [
        "## Cleaning the data"
      ]
    },
    {
      "cell_type": "markdown",
      "metadata": {
        "id": "YwiPhSSXZIBD",
        "colab_type": "text"
      },
      "source": [
        "### Step 1: Missing values"
      ]
    },
    {
      "cell_type": "code",
      "metadata": {
        "id": "B_h7GaVRZIBE",
        "colab_type": "code",
        "colab": {},
        "outputId": "733ef7c6-066b-4954-da9c-7410cb464b9c"
      },
      "source": [
        "data.isnull().any()"
      ],
      "execution_count": 0,
      "outputs": [
        {
          "output_type": "execute_result",
          "data": {
            "text/plain": [
              "Airline            False\n",
              "Date_of_Journey    False\n",
              "Source             False\n",
              "Destination        False\n",
              "Route               True\n",
              "Dep_Time           False\n",
              "Arrival_Time       False\n",
              "Duration           False\n",
              "Total_Stops         True\n",
              "Additional_Info    False\n",
              "Price              False\n",
              "dtype: bool"
            ]
          },
          "metadata": {
            "tags": []
          },
          "execution_count": 153
        }
      ]
    },
    {
      "cell_type": "markdown",
      "metadata": {
        "id": "SAvqBXdUZIBM",
        "colab_type": "text"
      },
      "source": [
        "**Comment** : We find that there are missing values in **Route** and **Total_Stops**"
      ]
    },
    {
      "cell_type": "code",
      "metadata": {
        "id": "nMwAsEPzZIBO",
        "colab_type": "code",
        "colab": {},
        "outputId": "adc9805f-c973-4cd4-dab0-0b33a07d4cb4"
      },
      "source": [
        "data.loc[data[\"Total_Stops\"].isnull()]"
      ],
      "execution_count": 0,
      "outputs": [
        {
          "output_type": "execute_result",
          "data": {
            "text/html": [
              "<div>\n",
              "<style scoped>\n",
              "    .dataframe tbody tr th:only-of-type {\n",
              "        vertical-align: middle;\n",
              "    }\n",
              "\n",
              "    .dataframe tbody tr th {\n",
              "        vertical-align: top;\n",
              "    }\n",
              "\n",
              "    .dataframe thead th {\n",
              "        text-align: right;\n",
              "    }\n",
              "</style>\n",
              "<table border=\"1\" class=\"dataframe\">\n",
              "  <thead>\n",
              "    <tr style=\"text-align: right;\">\n",
              "      <th></th>\n",
              "      <th>Airline</th>\n",
              "      <th>Date_of_Journey</th>\n",
              "      <th>Source</th>\n",
              "      <th>Destination</th>\n",
              "      <th>Route</th>\n",
              "      <th>Dep_Time</th>\n",
              "      <th>Arrival_Time</th>\n",
              "      <th>Duration</th>\n",
              "      <th>Total_Stops</th>\n",
              "      <th>Additional_Info</th>\n",
              "      <th>Price</th>\n",
              "    </tr>\n",
              "  </thead>\n",
              "  <tbody>\n",
              "    <tr>\n",
              "      <td>9039</td>\n",
              "      <td>Air India</td>\n",
              "      <td>6/05/2019</td>\n",
              "      <td>Delhi</td>\n",
              "      <td>Cochin</td>\n",
              "      <td>NaN</td>\n",
              "      <td>09:45</td>\n",
              "      <td>09:25 07 May</td>\n",
              "      <td>23h 40m</td>\n",
              "      <td>NaN</td>\n",
              "      <td>No info</td>\n",
              "      <td>7480</td>\n",
              "    </tr>\n",
              "  </tbody>\n",
              "</table>\n",
              "</div>"
            ],
            "text/plain": [
              "        Airline Date_of_Journey Source Destination Route Dep_Time  \\\n",
              "9039  Air India       6/05/2019  Delhi      Cochin   NaN    09:45   \n",
              "\n",
              "      Arrival_Time Duration Total_Stops Additional_Info  Price  \n",
              "9039  09:25 07 May  23h 40m         NaN         No info   7480  "
            ]
          },
          "metadata": {
            "tags": []
          },
          "execution_count": 154
        }
      ]
    },
    {
      "cell_type": "code",
      "metadata": {
        "id": "Qtq_Z8_5ZIBW",
        "colab_type": "code",
        "colab": {},
        "outputId": "558ba185-029a-4304-b2d5-2f986054ef1a"
      },
      "source": [
        "#Checking what are the values that the Total_Stops take\n",
        "data[\"Total_Stops\"].value_counts()"
      ],
      "execution_count": 0,
      "outputs": [
        {
          "output_type": "execute_result",
          "data": {
            "text/plain": [
              "1 stop      5625\n",
              "non-stop    3491\n",
              "2 stops     1520\n",
              "3 stops       45\n",
              "4 stops        1\n",
              "Name: Total_Stops, dtype: int64"
            ]
          },
          "metadata": {
            "tags": []
          },
          "execution_count": 155
        }
      ]
    },
    {
      "cell_type": "code",
      "metadata": {
        "id": "gOAYgTuZZIBb",
        "colab_type": "code",
        "colab": {}
      },
      "source": [
        "#Filling the missing value\n",
        "data.loc[data[\"Total_Stops\"].isnull(),\"Total_Stops\"] = \"non-stop\""
      ],
      "execution_count": 0,
      "outputs": []
    },
    {
      "cell_type": "code",
      "metadata": {
        "id": "Qe6Dtf__ZIBh",
        "colab_type": "code",
        "colab": {},
        "outputId": "8346ac5c-827c-4a9b-af50-79bc328eab27"
      },
      "source": [
        "#Checking missing values again\n",
        "data.isnull().any()"
      ],
      "execution_count": 0,
      "outputs": [
        {
          "output_type": "execute_result",
          "data": {
            "text/plain": [
              "Airline            False\n",
              "Date_of_Journey    False\n",
              "Source             False\n",
              "Destination        False\n",
              "Route               True\n",
              "Dep_Time           False\n",
              "Arrival_Time       False\n",
              "Duration           False\n",
              "Total_Stops        False\n",
              "Additional_Info    False\n",
              "Price              False\n",
              "dtype: bool"
            ]
          },
          "metadata": {
            "tags": []
          },
          "execution_count": 157
        }
      ]
    },
    {
      "cell_type": "code",
      "metadata": {
        "id": "ugs3DqoeZIBn",
        "colab_type": "code",
        "colab": {},
        "outputId": "b0314ab1-f328-44f6-94cc-cde0f6711fb3"
      },
      "source": [
        "#Checking missing values in Route\n",
        "data.loc[data[\"Route\"].isnull()]"
      ],
      "execution_count": 0,
      "outputs": [
        {
          "output_type": "execute_result",
          "data": {
            "text/html": [
              "<div>\n",
              "<style scoped>\n",
              "    .dataframe tbody tr th:only-of-type {\n",
              "        vertical-align: middle;\n",
              "    }\n",
              "\n",
              "    .dataframe tbody tr th {\n",
              "        vertical-align: top;\n",
              "    }\n",
              "\n",
              "    .dataframe thead th {\n",
              "        text-align: right;\n",
              "    }\n",
              "</style>\n",
              "<table border=\"1\" class=\"dataframe\">\n",
              "  <thead>\n",
              "    <tr style=\"text-align: right;\">\n",
              "      <th></th>\n",
              "      <th>Airline</th>\n",
              "      <th>Date_of_Journey</th>\n",
              "      <th>Source</th>\n",
              "      <th>Destination</th>\n",
              "      <th>Route</th>\n",
              "      <th>Dep_Time</th>\n",
              "      <th>Arrival_Time</th>\n",
              "      <th>Duration</th>\n",
              "      <th>Total_Stops</th>\n",
              "      <th>Additional_Info</th>\n",
              "      <th>Price</th>\n",
              "    </tr>\n",
              "  </thead>\n",
              "  <tbody>\n",
              "    <tr>\n",
              "      <td>9039</td>\n",
              "      <td>Air India</td>\n",
              "      <td>6/05/2019</td>\n",
              "      <td>Delhi</td>\n",
              "      <td>Cochin</td>\n",
              "      <td>NaN</td>\n",
              "      <td>09:45</td>\n",
              "      <td>09:25 07 May</td>\n",
              "      <td>23h 40m</td>\n",
              "      <td>non-stop</td>\n",
              "      <td>No info</td>\n",
              "      <td>7480</td>\n",
              "    </tr>\n",
              "  </tbody>\n",
              "</table>\n",
              "</div>"
            ],
            "text/plain": [
              "        Airline Date_of_Journey Source Destination Route Dep_Time  \\\n",
              "9039  Air India       6/05/2019  Delhi      Cochin   NaN    09:45   \n",
              "\n",
              "      Arrival_Time Duration Total_Stops Additional_Info  Price  \n",
              "9039  09:25 07 May  23h 40m    non-stop         No info   7480  "
            ]
          },
          "metadata": {
            "tags": []
          },
          "execution_count": 158
        }
      ]
    },
    {
      "cell_type": "code",
      "metadata": {
        "id": "aj3lyYwLZIBu",
        "colab_type": "code",
        "colab": {},
        "outputId": "44c4a9da-2cbb-48af-bd9a-b326fbf54a29"
      },
      "source": [
        "#Checking what are the values that the Route take\n",
        "data[\"Route\"].value_counts()"
      ],
      "execution_count": 0,
      "outputs": [
        {
          "output_type": "execute_result",
          "data": {
            "text/plain": [
              "DEL → BOM → COK                      2376\n",
              "BLR → DEL                            1552\n",
              "CCU → BOM → BLR                       979\n",
              "CCU → BLR                             724\n",
              "BOM → HYD                             621\n",
              "                                     ... \n",
              "BOM → JLR → HYD                         1\n",
              "BOM → GOI → HYD                         1\n",
              "BLR → CCU → BBI → HYD → VGA → DEL       1\n",
              "BOM → VNS → DEL → HYD                   1\n",
              "BOM → JAI → DEL → HYD                   1\n",
              "Name: Route, Length: 128, dtype: int64"
            ]
          },
          "metadata": {
            "tags": []
          },
          "execution_count": 159
        }
      ]
    },
    {
      "cell_type": "code",
      "metadata": {
        "id": "S-Si0kzzZIB2",
        "colab_type": "code",
        "colab": {}
      },
      "source": [
        "#Filling the missing value\n",
        "data.loc[data[\"Route\"].isnull(),\"Route\"] = \"DEL → COK\""
      ],
      "execution_count": 0,
      "outputs": []
    },
    {
      "cell_type": "markdown",
      "metadata": {
        "id": "bQTmaAuGZIB_",
        "colab_type": "text"
      },
      "source": [
        "## Step 2: Data Formatting"
      ]
    },
    {
      "cell_type": "markdown",
      "metadata": {
        "id": "YFKHDrQaZICA",
        "colab_type": "text"
      },
      "source": [
        "- Airline: Nominal Categorical\n",
        "- Date_of_Journey: Numerical\n",
        "- Source/Destination/Route: Nominal Categorical\n",
        "- Dep Time/ Arrival Time/ Duration : Numerical\n",
        "- Total_Stops: Ordinal Categorical\n",
        "- Addditional info: Nominal Categorical"
      ]
    },
    {
      "cell_type": "markdown",
      "metadata": {
        "id": "Slv5yELXZICB",
        "colab_type": "text"
      },
      "source": [
        "### 2.1 Mapping Ordinal feature: Total Stops"
      ]
    },
    {
      "cell_type": "code",
      "metadata": {
        "id": "Fe8S7VGnZICC",
        "colab_type": "code",
        "colab": {},
        "outputId": "49a9a64d-6763-4ad0-c683-2cf50a962953"
      },
      "source": [
        "data[\"Total_Stops\"].value_counts()"
      ],
      "execution_count": 0,
      "outputs": [
        {
          "output_type": "execute_result",
          "data": {
            "text/plain": [
              "1 stop      5625\n",
              "non-stop    3492\n",
              "2 stops     1520\n",
              "3 stops       45\n",
              "4 stops        1\n",
              "Name: Total_Stops, dtype: int64"
            ]
          },
          "metadata": {
            "tags": []
          },
          "execution_count": 161
        }
      ]
    },
    {
      "cell_type": "code",
      "metadata": {
        "id": "Ok14C0HiZICJ",
        "colab_type": "code",
        "colab": {}
      },
      "source": [
        "stops_map = {\"non-stop\": 0,\n",
        "             \"1 stop\": 1,\n",
        "             \"2 stops\": 2,\n",
        "             \"3 stops\": 3,\n",
        "             \"4 stops\": 4}"
      ],
      "execution_count": 0,
      "outputs": []
    },
    {
      "cell_type": "code",
      "metadata": {
        "id": "yN-lsUUiZICQ",
        "colab_type": "code",
        "colab": {}
      },
      "source": [
        "data[\"Total_Stops\"] = data[\"Total_Stops\"].map(stops_map)"
      ],
      "execution_count": 0,
      "outputs": []
    },
    {
      "cell_type": "code",
      "metadata": {
        "id": "fE6K13f-ZICV",
        "colab_type": "code",
        "colab": {},
        "outputId": "34ad7907-6d04-4ca7-d776-b9866c2bc7e5"
      },
      "source": [
        "data[\"Total_Stops\"].value_counts()"
      ],
      "execution_count": 0,
      "outputs": [
        {
          "output_type": "execute_result",
          "data": {
            "text/plain": [
              "1    5625\n",
              "0    3492\n",
              "2    1520\n",
              "3      45\n",
              "4       1\n",
              "Name: Total_Stops, dtype: int64"
            ]
          },
          "metadata": {
            "tags": []
          },
          "execution_count": 164
        }
      ]
    },
    {
      "cell_type": "markdown",
      "metadata": {
        "id": "q5GEY8HBZICb",
        "colab_type": "text"
      },
      "source": [
        "### 2.2 Making sense out of Source, Destination and Route features"
      ]
    },
    {
      "cell_type": "code",
      "metadata": {
        "id": "F_iArhnmZICb",
        "colab_type": "code",
        "colab": {}
      },
      "source": [
        "route_df = data[\"Route\"].str.split(\"→\")"
      ],
      "execution_count": 0,
      "outputs": []
    },
    {
      "cell_type": "code",
      "metadata": {
        "id": "Kxq9R2pgZICg",
        "colab_type": "code",
        "colab": {},
        "outputId": "ad3901d2-1a7b-43b7-b753-134fa006dc81"
      },
      "source": [
        "route_df"
      ],
      "execution_count": 0,
      "outputs": [
        {
          "output_type": "execute_result",
          "data": {
            "text/plain": [
              "0                      [BLR ,  DEL]\n",
              "1        [CCU ,  IXR ,  BBI ,  BLR]\n",
              "2        [DEL ,  LKO ,  BOM ,  COK]\n",
              "3               [CCU ,  NAG ,  BLR]\n",
              "4               [BLR ,  NAG ,  DEL]\n",
              "                    ...            \n",
              "10678                  [CCU ,  BLR]\n",
              "10679                  [CCU ,  BLR]\n",
              "10680                  [BLR ,  DEL]\n",
              "10681                  [BLR ,  DEL]\n",
              "10682    [DEL ,  GOI ,  BOM ,  COK]\n",
              "Name: Route, Length: 10683, dtype: object"
            ]
          },
          "metadata": {
            "tags": []
          },
          "execution_count": 166
        }
      ]
    },
    {
      "cell_type": "code",
      "metadata": {
        "id": "2aAMC801ZICm",
        "colab_type": "code",
        "colab": {},
        "outputId": "131b041e-1022-438a-801d-75064914050b"
      },
      "source": [
        "route_df[100][1:-1]"
      ],
      "execution_count": 0,
      "outputs": [
        {
          "output_type": "execute_result",
          "data": {
            "text/plain": [
              "[' BOM ']"
            ]
          },
          "metadata": {
            "tags": []
          },
          "execution_count": 167
        }
      ]
    },
    {
      "cell_type": "markdown",
      "metadata": {
        "id": "hi80Op1-ZICt",
        "colab_type": "text"
      },
      "source": [
        "**Comment**: Woahh! You can see how it worked as desired! <br>\n",
        "You can find str.split() function in pandas here. <br>"
      ]
    },
    {
      "cell_type": "code",
      "metadata": {
        "scrolled": true,
        "id": "ATYvTsNZZICu",
        "colab_type": "code",
        "colab": {},
        "outputId": "217094e6-c5a5-48a9-f86a-0a290e8dee49"
      },
      "source": [
        "route_df.head()"
      ],
      "execution_count": 0,
      "outputs": [
        {
          "output_type": "execute_result",
          "data": {
            "text/plain": [
              "0                  [BLR ,  DEL]\n",
              "1    [CCU ,  IXR ,  BBI ,  BLR]\n",
              "2    [DEL ,  LKO ,  BOM ,  COK]\n",
              "3           [CCU ,  NAG ,  BLR]\n",
              "4           [BLR ,  NAG ,  DEL]\n",
              "Name: Route, dtype: object"
            ]
          },
          "metadata": {
            "tags": []
          },
          "execution_count": 168
        }
      ]
    },
    {
      "cell_type": "code",
      "metadata": {
        "id": "BRwTQ4f_ZICy",
        "colab_type": "code",
        "colab": {}
      },
      "source": [
        "for index in data.index:\n",
        "    data.loc[index, \"Source\"] = route_df[index][0].strip()\n",
        "    data.loc[index, \"Destination\"] = route_df[index][-1].strip()\n",
        "    del route_df[index][0]\n",
        "    del route_df[index][-1]"
      ],
      "execution_count": 0,
      "outputs": []
    },
    {
      "cell_type": "code",
      "metadata": {
        "id": "tGaMAtBwZIC5",
        "colab_type": "code",
        "colab": {},
        "outputId": "cfcf10cb-4fb8-4dde-a2b1-472cdae075e1"
      },
      "source": [
        "data.head()"
      ],
      "execution_count": 0,
      "outputs": [
        {
          "output_type": "execute_result",
          "data": {
            "text/html": [
              "<div>\n",
              "<style scoped>\n",
              "    .dataframe tbody tr th:only-of-type {\n",
              "        vertical-align: middle;\n",
              "    }\n",
              "\n",
              "    .dataframe tbody tr th {\n",
              "        vertical-align: top;\n",
              "    }\n",
              "\n",
              "    .dataframe thead th {\n",
              "        text-align: right;\n",
              "    }\n",
              "</style>\n",
              "<table border=\"1\" class=\"dataframe\">\n",
              "  <thead>\n",
              "    <tr style=\"text-align: right;\">\n",
              "      <th></th>\n",
              "      <th>Airline</th>\n",
              "      <th>Date_of_Journey</th>\n",
              "      <th>Source</th>\n",
              "      <th>Destination</th>\n",
              "      <th>Route</th>\n",
              "      <th>Dep_Time</th>\n",
              "      <th>Arrival_Time</th>\n",
              "      <th>Duration</th>\n",
              "      <th>Total_Stops</th>\n",
              "      <th>Additional_Info</th>\n",
              "      <th>Price</th>\n",
              "    </tr>\n",
              "  </thead>\n",
              "  <tbody>\n",
              "    <tr>\n",
              "      <td>0</td>\n",
              "      <td>IndiGo</td>\n",
              "      <td>24/03/2019</td>\n",
              "      <td>BLR</td>\n",
              "      <td>DEL</td>\n",
              "      <td>BLR → DEL</td>\n",
              "      <td>22:20</td>\n",
              "      <td>01:10 22 Mar</td>\n",
              "      <td>2h 50m</td>\n",
              "      <td>0</td>\n",
              "      <td>No info</td>\n",
              "      <td>3897</td>\n",
              "    </tr>\n",
              "    <tr>\n",
              "      <td>1</td>\n",
              "      <td>Air India</td>\n",
              "      <td>1/05/2019</td>\n",
              "      <td>CCU</td>\n",
              "      <td>BLR</td>\n",
              "      <td>CCU → IXR → BBI → BLR</td>\n",
              "      <td>05:50</td>\n",
              "      <td>13:15</td>\n",
              "      <td>7h 25m</td>\n",
              "      <td>2</td>\n",
              "      <td>No info</td>\n",
              "      <td>7662</td>\n",
              "    </tr>\n",
              "    <tr>\n",
              "      <td>2</td>\n",
              "      <td>Jet Airways</td>\n",
              "      <td>9/06/2019</td>\n",
              "      <td>DEL</td>\n",
              "      <td>COK</td>\n",
              "      <td>DEL → LKO → BOM → COK</td>\n",
              "      <td>09:25</td>\n",
              "      <td>04:25 10 Jun</td>\n",
              "      <td>19h</td>\n",
              "      <td>2</td>\n",
              "      <td>No info</td>\n",
              "      <td>13882</td>\n",
              "    </tr>\n",
              "    <tr>\n",
              "      <td>3</td>\n",
              "      <td>IndiGo</td>\n",
              "      <td>12/05/2019</td>\n",
              "      <td>CCU</td>\n",
              "      <td>BLR</td>\n",
              "      <td>CCU → NAG → BLR</td>\n",
              "      <td>18:05</td>\n",
              "      <td>23:30</td>\n",
              "      <td>5h 25m</td>\n",
              "      <td>1</td>\n",
              "      <td>No info</td>\n",
              "      <td>6218</td>\n",
              "    </tr>\n",
              "    <tr>\n",
              "      <td>4</td>\n",
              "      <td>IndiGo</td>\n",
              "      <td>01/03/2019</td>\n",
              "      <td>BLR</td>\n",
              "      <td>DEL</td>\n",
              "      <td>BLR → NAG → DEL</td>\n",
              "      <td>16:50</td>\n",
              "      <td>21:35</td>\n",
              "      <td>4h 45m</td>\n",
              "      <td>1</td>\n",
              "      <td>No info</td>\n",
              "      <td>13302</td>\n",
              "    </tr>\n",
              "  </tbody>\n",
              "</table>\n",
              "</div>"
            ],
            "text/plain": [
              "       Airline Date_of_Journey Source Destination                  Route  \\\n",
              "0       IndiGo      24/03/2019    BLR         DEL              BLR → DEL   \n",
              "1    Air India       1/05/2019    CCU         BLR  CCU → IXR → BBI → BLR   \n",
              "2  Jet Airways       9/06/2019    DEL         COK  DEL → LKO → BOM → COK   \n",
              "3       IndiGo      12/05/2019    CCU         BLR        CCU → NAG → BLR   \n",
              "4       IndiGo      01/03/2019    BLR         DEL        BLR → NAG → DEL   \n",
              "\n",
              "  Dep_Time  Arrival_Time Duration  Total_Stops Additional_Info  Price  \n",
              "0    22:20  01:10 22 Mar   2h 50m            0         No info   3897  \n",
              "1    05:50         13:15   7h 25m            2         No info   7662  \n",
              "2    09:25  04:25 10 Jun      19h            2         No info  13882  \n",
              "3    18:05         23:30   5h 25m            1         No info   6218  \n",
              "4    16:50         21:35   4h 45m            1         No info  13302  "
            ]
          },
          "metadata": {
            "tags": []
          },
          "execution_count": 170
        }
      ]
    },
    {
      "cell_type": "code",
      "metadata": {
        "id": "uf295fE4ZIDA",
        "colab_type": "code",
        "colab": {},
        "outputId": "ab395159-aa6c-4a64-c006-939726737585"
      },
      "source": [
        "route_df.head()"
      ],
      "execution_count": 0,
      "outputs": [
        {
          "output_type": "execute_result",
          "data": {
            "text/plain": [
              "0                []\n",
              "1    [ IXR ,  BBI ]\n",
              "2    [ LKO ,  BOM ]\n",
              "3           [ NAG ]\n",
              "4           [ NAG ]\n",
              "Name: Route, dtype: object"
            ]
          },
          "metadata": {
            "tags": []
          },
          "execution_count": 171
        }
      ]
    },
    {
      "cell_type": "code",
      "metadata": {
        "id": "TyhJFnjEZIDF",
        "colab_type": "code",
        "colab": {}
      },
      "source": [
        "route_df = route_df.apply(pd.Series)\n"
      ],
      "execution_count": 0,
      "outputs": []
    },
    {
      "cell_type": "code",
      "metadata": {
        "id": "qq07wF6PZIDK",
        "colab_type": "code",
        "colab": {}
      },
      "source": [
        "route_df.rename({0:'Stop_1', 1:'Stop_2', 2:'Stop_3', 3:'Stop_4'}, axis = 'columns', inplace = True)"
      ],
      "execution_count": 0,
      "outputs": []
    },
    {
      "cell_type": "code",
      "metadata": {
        "id": "EuDiAbpiZIDO",
        "colab_type": "code",
        "colab": {},
        "outputId": "bd20280b-6147-4326-c871-c404eb4e57ba"
      },
      "source": [
        "route_df.head()"
      ],
      "execution_count": 0,
      "outputs": [
        {
          "output_type": "execute_result",
          "data": {
            "text/html": [
              "<div>\n",
              "<style scoped>\n",
              "    .dataframe tbody tr th:only-of-type {\n",
              "        vertical-align: middle;\n",
              "    }\n",
              "\n",
              "    .dataframe tbody tr th {\n",
              "        vertical-align: top;\n",
              "    }\n",
              "\n",
              "    .dataframe thead th {\n",
              "        text-align: right;\n",
              "    }\n",
              "</style>\n",
              "<table border=\"1\" class=\"dataframe\">\n",
              "  <thead>\n",
              "    <tr style=\"text-align: right;\">\n",
              "      <th></th>\n",
              "      <th>Stop_1</th>\n",
              "      <th>Stop_2</th>\n",
              "      <th>Stop_3</th>\n",
              "      <th>Stop_4</th>\n",
              "    </tr>\n",
              "  </thead>\n",
              "  <tbody>\n",
              "    <tr>\n",
              "      <td>0</td>\n",
              "      <td>NaN</td>\n",
              "      <td>NaN</td>\n",
              "      <td>NaN</td>\n",
              "      <td>NaN</td>\n",
              "    </tr>\n",
              "    <tr>\n",
              "      <td>1</td>\n",
              "      <td>IXR</td>\n",
              "      <td>BBI</td>\n",
              "      <td>NaN</td>\n",
              "      <td>NaN</td>\n",
              "    </tr>\n",
              "    <tr>\n",
              "      <td>2</td>\n",
              "      <td>LKO</td>\n",
              "      <td>BOM</td>\n",
              "      <td>NaN</td>\n",
              "      <td>NaN</td>\n",
              "    </tr>\n",
              "    <tr>\n",
              "      <td>3</td>\n",
              "      <td>NAG</td>\n",
              "      <td>NaN</td>\n",
              "      <td>NaN</td>\n",
              "      <td>NaN</td>\n",
              "    </tr>\n",
              "    <tr>\n",
              "      <td>4</td>\n",
              "      <td>NAG</td>\n",
              "      <td>NaN</td>\n",
              "      <td>NaN</td>\n",
              "      <td>NaN</td>\n",
              "    </tr>\n",
              "  </tbody>\n",
              "</table>\n",
              "</div>"
            ],
            "text/plain": [
              "  Stop_1 Stop_2 Stop_3 Stop_4\n",
              "0    NaN    NaN    NaN    NaN\n",
              "1   IXR    BBI     NaN    NaN\n",
              "2   LKO    BOM     NaN    NaN\n",
              "3   NAG     NaN    NaN    NaN\n",
              "4   NAG     NaN    NaN    NaN"
            ]
          },
          "metadata": {
            "tags": []
          },
          "execution_count": 174
        }
      ]
    },
    {
      "cell_type": "code",
      "metadata": {
        "id": "Nc0l0gZrZIDd",
        "colab_type": "code",
        "colab": {}
      },
      "source": [
        "data.drop(labels=['Route'], axis= 'columns', inplace=True)"
      ],
      "execution_count": 0,
      "outputs": []
    },
    {
      "cell_type": "code",
      "metadata": {
        "id": "blzAmkKjZIDg",
        "colab_type": "code",
        "colab": {}
      },
      "source": [
        "new_data = pd.concat([data, route_df], axis =1)"
      ],
      "execution_count": 0,
      "outputs": []
    },
    {
      "cell_type": "code",
      "metadata": {
        "scrolled": true,
        "id": "JnnWih7WZIDj",
        "colab_type": "code",
        "colab": {},
        "outputId": "facf532e-a1ed-40e3-f329-c79116b2dbde"
      },
      "source": [
        "new_data.head()"
      ],
      "execution_count": 0,
      "outputs": [
        {
          "output_type": "execute_result",
          "data": {
            "text/html": [
              "<div>\n",
              "<style scoped>\n",
              "    .dataframe tbody tr th:only-of-type {\n",
              "        vertical-align: middle;\n",
              "    }\n",
              "\n",
              "    .dataframe tbody tr th {\n",
              "        vertical-align: top;\n",
              "    }\n",
              "\n",
              "    .dataframe thead th {\n",
              "        text-align: right;\n",
              "    }\n",
              "</style>\n",
              "<table border=\"1\" class=\"dataframe\">\n",
              "  <thead>\n",
              "    <tr style=\"text-align: right;\">\n",
              "      <th></th>\n",
              "      <th>Airline</th>\n",
              "      <th>Date_of_Journey</th>\n",
              "      <th>Source</th>\n",
              "      <th>Destination</th>\n",
              "      <th>Dep_Time</th>\n",
              "      <th>Arrival_Time</th>\n",
              "      <th>Duration</th>\n",
              "      <th>Total_Stops</th>\n",
              "      <th>Additional_Info</th>\n",
              "      <th>Price</th>\n",
              "      <th>Stop_1</th>\n",
              "      <th>Stop_2</th>\n",
              "      <th>Stop_3</th>\n",
              "      <th>Stop_4</th>\n",
              "    </tr>\n",
              "  </thead>\n",
              "  <tbody>\n",
              "    <tr>\n",
              "      <td>0</td>\n",
              "      <td>IndiGo</td>\n",
              "      <td>24/03/2019</td>\n",
              "      <td>BLR</td>\n",
              "      <td>DEL</td>\n",
              "      <td>22:20</td>\n",
              "      <td>01:10 22 Mar</td>\n",
              "      <td>2h 50m</td>\n",
              "      <td>0</td>\n",
              "      <td>No info</td>\n",
              "      <td>3897</td>\n",
              "      <td>NaN</td>\n",
              "      <td>NaN</td>\n",
              "      <td>NaN</td>\n",
              "      <td>NaN</td>\n",
              "    </tr>\n",
              "    <tr>\n",
              "      <td>1</td>\n",
              "      <td>Air India</td>\n",
              "      <td>1/05/2019</td>\n",
              "      <td>CCU</td>\n",
              "      <td>BLR</td>\n",
              "      <td>05:50</td>\n",
              "      <td>13:15</td>\n",
              "      <td>7h 25m</td>\n",
              "      <td>2</td>\n",
              "      <td>No info</td>\n",
              "      <td>7662</td>\n",
              "      <td>IXR</td>\n",
              "      <td>BBI</td>\n",
              "      <td>NaN</td>\n",
              "      <td>NaN</td>\n",
              "    </tr>\n",
              "    <tr>\n",
              "      <td>2</td>\n",
              "      <td>Jet Airways</td>\n",
              "      <td>9/06/2019</td>\n",
              "      <td>DEL</td>\n",
              "      <td>COK</td>\n",
              "      <td>09:25</td>\n",
              "      <td>04:25 10 Jun</td>\n",
              "      <td>19h</td>\n",
              "      <td>2</td>\n",
              "      <td>No info</td>\n",
              "      <td>13882</td>\n",
              "      <td>LKO</td>\n",
              "      <td>BOM</td>\n",
              "      <td>NaN</td>\n",
              "      <td>NaN</td>\n",
              "    </tr>\n",
              "    <tr>\n",
              "      <td>3</td>\n",
              "      <td>IndiGo</td>\n",
              "      <td>12/05/2019</td>\n",
              "      <td>CCU</td>\n",
              "      <td>BLR</td>\n",
              "      <td>18:05</td>\n",
              "      <td>23:30</td>\n",
              "      <td>5h 25m</td>\n",
              "      <td>1</td>\n",
              "      <td>No info</td>\n",
              "      <td>6218</td>\n",
              "      <td>NAG</td>\n",
              "      <td>NaN</td>\n",
              "      <td>NaN</td>\n",
              "      <td>NaN</td>\n",
              "    </tr>\n",
              "    <tr>\n",
              "      <td>4</td>\n",
              "      <td>IndiGo</td>\n",
              "      <td>01/03/2019</td>\n",
              "      <td>BLR</td>\n",
              "      <td>DEL</td>\n",
              "      <td>16:50</td>\n",
              "      <td>21:35</td>\n",
              "      <td>4h 45m</td>\n",
              "      <td>1</td>\n",
              "      <td>No info</td>\n",
              "      <td>13302</td>\n",
              "      <td>NAG</td>\n",
              "      <td>NaN</td>\n",
              "      <td>NaN</td>\n",
              "      <td>NaN</td>\n",
              "    </tr>\n",
              "  </tbody>\n",
              "</table>\n",
              "</div>"
            ],
            "text/plain": [
              "       Airline Date_of_Journey Source Destination Dep_Time  Arrival_Time  \\\n",
              "0       IndiGo      24/03/2019    BLR         DEL    22:20  01:10 22 Mar   \n",
              "1    Air India       1/05/2019    CCU         BLR    05:50         13:15   \n",
              "2  Jet Airways       9/06/2019    DEL         COK    09:25  04:25 10 Jun   \n",
              "3       IndiGo      12/05/2019    CCU         BLR    18:05         23:30   \n",
              "4       IndiGo      01/03/2019    BLR         DEL    16:50         21:35   \n",
              "\n",
              "  Duration  Total_Stops Additional_Info  Price Stop_1 Stop_2 Stop_3 Stop_4  \n",
              "0   2h 50m            0         No info   3897    NaN    NaN    NaN    NaN  \n",
              "1   7h 25m            2         No info   7662   IXR    BBI     NaN    NaN  \n",
              "2      19h            2         No info  13882   LKO    BOM     NaN    NaN  \n",
              "3   5h 25m            1         No info   6218   NAG     NaN    NaN    NaN  \n",
              "4   4h 45m            1         No info  13302   NAG     NaN    NaN    NaN  "
            ]
          },
          "metadata": {
            "tags": []
          },
          "execution_count": 177
        }
      ]
    },
    {
      "cell_type": "markdown",
      "metadata": {
        "id": "DwZftqh1ZIDo",
        "colab_type": "text"
      },
      "source": [
        "### Comment: Source and Destination are Important Features than Intermediate Stops, hence kept them as seperate features."
      ]
    },
    {
      "cell_type": "markdown",
      "metadata": {
        "id": "jjq4My7iZIDq",
        "colab_type": "text"
      },
      "source": [
        "### 2.3 Making sense out of Dep_time, Arrival_Time and Duration (One of the toughest task)"
      ]
    },
    {
      "cell_type": "markdown",
      "metadata": {
        "id": "8-snvvePZIDr",
        "colab_type": "text"
      },
      "source": [
        "**Comment**: One of these features is redundant."
      ]
    },
    {
      "cell_type": "code",
      "metadata": {
        "id": "Xj4VclcuZIDs",
        "colab_type": "code",
        "colab": {},
        "outputId": "9bee020a-e582-401c-8794-084aad7e2abb"
      },
      "source": [
        "new_data[\"Dep_Time\"]"
      ],
      "execution_count": 0,
      "outputs": [
        {
          "output_type": "execute_result",
          "data": {
            "text/plain": [
              "0        22:20\n",
              "1        05:50\n",
              "2        09:25\n",
              "3        18:05\n",
              "4        16:50\n",
              "         ...  \n",
              "10678    19:55\n",
              "10679    20:45\n",
              "10680    08:20\n",
              "10681    11:30\n",
              "10682    10:55\n",
              "Name: Dep_Time, Length: 10683, dtype: object"
            ]
          },
          "metadata": {
            "tags": []
          },
          "execution_count": 178
        }
      ]
    },
    {
      "cell_type": "code",
      "metadata": {
        "id": "rY60rGMHZIDz",
        "colab_type": "code",
        "colab": {},
        "outputId": "a10f4b8f-a91b-40fd-a0bd-78da2c6a1e68"
      },
      "source": [
        "new_data[\"Arrival_Time\"]"
      ],
      "execution_count": 0,
      "outputs": [
        {
          "output_type": "execute_result",
          "data": {
            "text/plain": [
              "0        01:10 22 Mar\n",
              "1               13:15\n",
              "2        04:25 10 Jun\n",
              "3               23:30\n",
              "4               21:35\n",
              "             ...     \n",
              "10678           22:25\n",
              "10679           23:20\n",
              "10680           11:20\n",
              "10681           14:10\n",
              "10682           19:15\n",
              "Name: Arrival_Time, Length: 10683, dtype: object"
            ]
          },
          "metadata": {
            "tags": []
          },
          "execution_count": 179
        }
      ]
    },
    {
      "cell_type": "code",
      "metadata": {
        "id": "sOKOhtE3ZID3",
        "colab_type": "code",
        "colab": {},
        "outputId": "f112f7ee-9c86-43a1-f66f-78e1ad145742"
      },
      "source": [
        "new_data[\"Duration\"]"
      ],
      "execution_count": 0,
      "outputs": [
        {
          "output_type": "execute_result",
          "data": {
            "text/plain": [
              "0        2h 50m\n",
              "1        7h 25m\n",
              "2           19h\n",
              "3        5h 25m\n",
              "4        4h 45m\n",
              "          ...  \n",
              "10678    2h 30m\n",
              "10679    2h 35m\n",
              "10680        3h\n",
              "10681    2h 40m\n",
              "10682    8h 20m\n",
              "Name: Duration, Length: 10683, dtype: object"
            ]
          },
          "metadata": {
            "tags": []
          },
          "execution_count": 180
        }
      ]
    },
    {
      "cell_type": "markdown",
      "metadata": {
        "id": "7aqW6n6LZID9",
        "colab_type": "text"
      },
      "source": [
        "**Comment: As we can see,**\n",
        "- Departure Time and Duration ae well formatted.\n",
        "- However, Arrival Time is not well formatted. It would take a lot of time to clean it to make it usable."
      ]
    },
    {
      "cell_type": "code",
      "metadata": {
        "id": "p8aD4fasZID-",
        "colab_type": "code",
        "colab": {}
      },
      "source": [
        "#Converting Departure Time and Duration into datetime format\n",
        "new_data[\"Dep_Time\"] = pd.to_datetime(new_data[\"Date_of_Journey\"]+ ' ' + new_data[\"Dep_Time\"])"
      ],
      "execution_count": 0,
      "outputs": []
    },
    {
      "cell_type": "code",
      "metadata": {
        "id": "rBhpC0uyZIEB",
        "colab_type": "code",
        "colab": {},
        "outputId": "81cf7632-0035-4bbc-8a86-1c5b60d0a1fd"
      },
      "source": [
        "new_data[\"Dep_Time\"]"
      ],
      "execution_count": 0,
      "outputs": [
        {
          "output_type": "execute_result",
          "data": {
            "text/plain": [
              "0       2019-03-24 22:20:00\n",
              "1       2019-01-05 05:50:00\n",
              "2       2019-09-06 09:25:00\n",
              "3       2019-12-05 18:05:00\n",
              "4       2019-01-03 16:50:00\n",
              "                ...        \n",
              "10678   2019-09-04 19:55:00\n",
              "10679   2019-04-27 20:45:00\n",
              "10680   2019-04-27 08:20:00\n",
              "10681   2019-01-03 11:30:00\n",
              "10682   2019-09-05 10:55:00\n",
              "Name: Dep_Time, Length: 10683, dtype: datetime64[ns]"
            ]
          },
          "metadata": {
            "tags": []
          },
          "execution_count": 182
        }
      ]
    },
    {
      "cell_type": "code",
      "metadata": {
        "id": "mJ1Wyei5ZIEG",
        "colab_type": "code",
        "colab": {}
      },
      "source": [
        "new_data.drop(labels=[\"Date_of_Journey\", \"Arrival_Time\"], axis= 'columns', inplace = True)"
      ],
      "execution_count": 0,
      "outputs": []
    },
    {
      "cell_type": "code",
      "metadata": {
        "id": "gjDYUInrZIEK",
        "colab_type": "code",
        "colab": {},
        "outputId": "4a7c0158-5fdf-4146-d450-4c4a9df3da09"
      },
      "source": [
        "new_data.head()"
      ],
      "execution_count": 0,
      "outputs": [
        {
          "output_type": "execute_result",
          "data": {
            "text/html": [
              "<div>\n",
              "<style scoped>\n",
              "    .dataframe tbody tr th:only-of-type {\n",
              "        vertical-align: middle;\n",
              "    }\n",
              "\n",
              "    .dataframe tbody tr th {\n",
              "        vertical-align: top;\n",
              "    }\n",
              "\n",
              "    .dataframe thead th {\n",
              "        text-align: right;\n",
              "    }\n",
              "</style>\n",
              "<table border=\"1\" class=\"dataframe\">\n",
              "  <thead>\n",
              "    <tr style=\"text-align: right;\">\n",
              "      <th></th>\n",
              "      <th>Airline</th>\n",
              "      <th>Source</th>\n",
              "      <th>Destination</th>\n",
              "      <th>Dep_Time</th>\n",
              "      <th>Duration</th>\n",
              "      <th>Total_Stops</th>\n",
              "      <th>Additional_Info</th>\n",
              "      <th>Price</th>\n",
              "      <th>Stop_1</th>\n",
              "      <th>Stop_2</th>\n",
              "      <th>Stop_3</th>\n",
              "      <th>Stop_4</th>\n",
              "    </tr>\n",
              "  </thead>\n",
              "  <tbody>\n",
              "    <tr>\n",
              "      <td>0</td>\n",
              "      <td>IndiGo</td>\n",
              "      <td>BLR</td>\n",
              "      <td>DEL</td>\n",
              "      <td>2019-03-24 22:20:00</td>\n",
              "      <td>2h 50m</td>\n",
              "      <td>0</td>\n",
              "      <td>No info</td>\n",
              "      <td>3897</td>\n",
              "      <td>NaN</td>\n",
              "      <td>NaN</td>\n",
              "      <td>NaN</td>\n",
              "      <td>NaN</td>\n",
              "    </tr>\n",
              "    <tr>\n",
              "      <td>1</td>\n",
              "      <td>Air India</td>\n",
              "      <td>CCU</td>\n",
              "      <td>BLR</td>\n",
              "      <td>2019-01-05 05:50:00</td>\n",
              "      <td>7h 25m</td>\n",
              "      <td>2</td>\n",
              "      <td>No info</td>\n",
              "      <td>7662</td>\n",
              "      <td>IXR</td>\n",
              "      <td>BBI</td>\n",
              "      <td>NaN</td>\n",
              "      <td>NaN</td>\n",
              "    </tr>\n",
              "    <tr>\n",
              "      <td>2</td>\n",
              "      <td>Jet Airways</td>\n",
              "      <td>DEL</td>\n",
              "      <td>COK</td>\n",
              "      <td>2019-09-06 09:25:00</td>\n",
              "      <td>19h</td>\n",
              "      <td>2</td>\n",
              "      <td>No info</td>\n",
              "      <td>13882</td>\n",
              "      <td>LKO</td>\n",
              "      <td>BOM</td>\n",
              "      <td>NaN</td>\n",
              "      <td>NaN</td>\n",
              "    </tr>\n",
              "    <tr>\n",
              "      <td>3</td>\n",
              "      <td>IndiGo</td>\n",
              "      <td>CCU</td>\n",
              "      <td>BLR</td>\n",
              "      <td>2019-12-05 18:05:00</td>\n",
              "      <td>5h 25m</td>\n",
              "      <td>1</td>\n",
              "      <td>No info</td>\n",
              "      <td>6218</td>\n",
              "      <td>NAG</td>\n",
              "      <td>NaN</td>\n",
              "      <td>NaN</td>\n",
              "      <td>NaN</td>\n",
              "    </tr>\n",
              "    <tr>\n",
              "      <td>4</td>\n",
              "      <td>IndiGo</td>\n",
              "      <td>BLR</td>\n",
              "      <td>DEL</td>\n",
              "      <td>2019-01-03 16:50:00</td>\n",
              "      <td>4h 45m</td>\n",
              "      <td>1</td>\n",
              "      <td>No info</td>\n",
              "      <td>13302</td>\n",
              "      <td>NAG</td>\n",
              "      <td>NaN</td>\n",
              "      <td>NaN</td>\n",
              "      <td>NaN</td>\n",
              "    </tr>\n",
              "  </tbody>\n",
              "</table>\n",
              "</div>"
            ],
            "text/plain": [
              "       Airline Source Destination            Dep_Time Duration  Total_Stops  \\\n",
              "0       IndiGo    BLR         DEL 2019-03-24 22:20:00   2h 50m            0   \n",
              "1    Air India    CCU         BLR 2019-01-05 05:50:00   7h 25m            2   \n",
              "2  Jet Airways    DEL         COK 2019-09-06 09:25:00      19h            2   \n",
              "3       IndiGo    CCU         BLR 2019-12-05 18:05:00   5h 25m            1   \n",
              "4       IndiGo    BLR         DEL 2019-01-03 16:50:00   4h 45m            1   \n",
              "\n",
              "  Additional_Info  Price Stop_1 Stop_2 Stop_3 Stop_4  \n",
              "0         No info   3897    NaN    NaN    NaN    NaN  \n",
              "1         No info   7662   IXR    BBI     NaN    NaN  \n",
              "2         No info  13882   LKO    BOM     NaN    NaN  \n",
              "3         No info   6218   NAG     NaN    NaN    NaN  \n",
              "4         No info  13302   NAG     NaN    NaN    NaN  "
            ]
          },
          "metadata": {
            "tags": []
          },
          "execution_count": 184
        }
      ]
    },
    {
      "cell_type": "code",
      "metadata": {
        "id": "33X9ccrXZIEN",
        "colab_type": "code",
        "colab": {}
      },
      "source": [
        "#TODO: Convert Duration to proper datetime format using regex and datetime functions\n",
        "\n",
        "#TODO: Check contents of Additional_Info\n",
        "\n",
        "#TODO: Seperate Price (y) and reemaing data (X)\n",
        "\n",
        "#TODO: One Hot Encode these features: 'Airline', 'Additional_Info', 'Stop_<all>'\n",
        "\n",
        "#Then the data will be ready to be used in any Regression model."
      ],
      "execution_count": 0,
      "outputs": []
    },
    {
      "cell_type": "code",
      "metadata": {
        "id": "xYWu7pyiZIEQ",
        "colab_type": "code",
        "colab": {}
      },
      "source": [
        "#Finding all numbers in a string\n",
        "import re\n",
        "duration_series = new_data[\"Duration\"].str.findall(r'\\d+')"
      ],
      "execution_count": 0,
      "outputs": []
    },
    {
      "cell_type": "code",
      "metadata": {
        "id": "rNdLivlfZIES",
        "colab_type": "code",
        "colab": {},
        "outputId": "40fce5eb-46f9-4cc6-fc6d-eb06d512cab5"
      },
      "source": [
        "duration_series"
      ],
      "execution_count": 0,
      "outputs": [
        {
          "output_type": "execute_result",
          "data": {
            "text/plain": [
              "0        [2, 50]\n",
              "1        [7, 25]\n",
              "2           [19]\n",
              "3        [5, 25]\n",
              "4        [4, 45]\n",
              "          ...   \n",
              "10678    [2, 30]\n",
              "10679    [2, 35]\n",
              "10680        [3]\n",
              "10681    [2, 40]\n",
              "10682    [8, 20]\n",
              "Name: Duration, Length: 10683, dtype: object"
            ]
          },
          "metadata": {
            "tags": []
          },
          "execution_count": 187
        }
      ]
    },
    {
      "cell_type": "code",
      "metadata": {
        "id": "WhMg2wxjZIEV",
        "colab_type": "code",
        "colab": {}
      },
      "source": [
        "from datetime import datetime\n",
        "from datetime import timedelta\n",
        "for i, duration_list in enumerate(duration_series.values):\n",
        "    hours = int(duration_list[0])\n",
        "    if len(duration_list)==1:\n",
        "        mins = 0\n",
        "    else:\n",
        "        mins = int(duration_list[1])\n",
        "        \n",
        "    new_data.loc[i, \"Duration\"] = 60*hours + mins"
      ],
      "execution_count": 0,
      "outputs": []
    },
    {
      "cell_type": "code",
      "metadata": {
        "id": "21vAQInWZIEZ",
        "colab_type": "code",
        "colab": {}
      },
      "source": [
        "new_data.rename(columns={\"Duration\": \"Minutes\"}, inplace = True)"
      ],
      "execution_count": 0,
      "outputs": []
    },
    {
      "cell_type": "code",
      "metadata": {
        "id": "eSptQwqCZIEb",
        "colab_type": "code",
        "colab": {},
        "outputId": "7ecc5975-cb8d-41f4-d2d5-9090e5fd91d6"
      },
      "source": [
        "new_data.head()"
      ],
      "execution_count": 0,
      "outputs": [
        {
          "output_type": "execute_result",
          "data": {
            "text/html": [
              "<div>\n",
              "<style scoped>\n",
              "    .dataframe tbody tr th:only-of-type {\n",
              "        vertical-align: middle;\n",
              "    }\n",
              "\n",
              "    .dataframe tbody tr th {\n",
              "        vertical-align: top;\n",
              "    }\n",
              "\n",
              "    .dataframe thead th {\n",
              "        text-align: right;\n",
              "    }\n",
              "</style>\n",
              "<table border=\"1\" class=\"dataframe\">\n",
              "  <thead>\n",
              "    <tr style=\"text-align: right;\">\n",
              "      <th></th>\n",
              "      <th>Airline</th>\n",
              "      <th>Source</th>\n",
              "      <th>Destination</th>\n",
              "      <th>Dep_Time</th>\n",
              "      <th>Minutes</th>\n",
              "      <th>Total_Stops</th>\n",
              "      <th>Additional_Info</th>\n",
              "      <th>Price</th>\n",
              "      <th>Stop_1</th>\n",
              "      <th>Stop_2</th>\n",
              "      <th>Stop_3</th>\n",
              "      <th>Stop_4</th>\n",
              "    </tr>\n",
              "  </thead>\n",
              "  <tbody>\n",
              "    <tr>\n",
              "      <td>0</td>\n",
              "      <td>IndiGo</td>\n",
              "      <td>BLR</td>\n",
              "      <td>DEL</td>\n",
              "      <td>2019-03-24 22:20:00</td>\n",
              "      <td>170</td>\n",
              "      <td>0</td>\n",
              "      <td>No info</td>\n",
              "      <td>3897</td>\n",
              "      <td>NaN</td>\n",
              "      <td>NaN</td>\n",
              "      <td>NaN</td>\n",
              "      <td>NaN</td>\n",
              "    </tr>\n",
              "    <tr>\n",
              "      <td>1</td>\n",
              "      <td>Air India</td>\n",
              "      <td>CCU</td>\n",
              "      <td>BLR</td>\n",
              "      <td>2019-01-05 05:50:00</td>\n",
              "      <td>445</td>\n",
              "      <td>2</td>\n",
              "      <td>No info</td>\n",
              "      <td>7662</td>\n",
              "      <td>IXR</td>\n",
              "      <td>BBI</td>\n",
              "      <td>NaN</td>\n",
              "      <td>NaN</td>\n",
              "    </tr>\n",
              "    <tr>\n",
              "      <td>2</td>\n",
              "      <td>Jet Airways</td>\n",
              "      <td>DEL</td>\n",
              "      <td>COK</td>\n",
              "      <td>2019-09-06 09:25:00</td>\n",
              "      <td>1140</td>\n",
              "      <td>2</td>\n",
              "      <td>No info</td>\n",
              "      <td>13882</td>\n",
              "      <td>LKO</td>\n",
              "      <td>BOM</td>\n",
              "      <td>NaN</td>\n",
              "      <td>NaN</td>\n",
              "    </tr>\n",
              "    <tr>\n",
              "      <td>3</td>\n",
              "      <td>IndiGo</td>\n",
              "      <td>CCU</td>\n",
              "      <td>BLR</td>\n",
              "      <td>2019-12-05 18:05:00</td>\n",
              "      <td>325</td>\n",
              "      <td>1</td>\n",
              "      <td>No info</td>\n",
              "      <td>6218</td>\n",
              "      <td>NAG</td>\n",
              "      <td>NaN</td>\n",
              "      <td>NaN</td>\n",
              "      <td>NaN</td>\n",
              "    </tr>\n",
              "    <tr>\n",
              "      <td>4</td>\n",
              "      <td>IndiGo</td>\n",
              "      <td>BLR</td>\n",
              "      <td>DEL</td>\n",
              "      <td>2019-01-03 16:50:00</td>\n",
              "      <td>285</td>\n",
              "      <td>1</td>\n",
              "      <td>No info</td>\n",
              "      <td>13302</td>\n",
              "      <td>NAG</td>\n",
              "      <td>NaN</td>\n",
              "      <td>NaN</td>\n",
              "      <td>NaN</td>\n",
              "    </tr>\n",
              "  </tbody>\n",
              "</table>\n",
              "</div>"
            ],
            "text/plain": [
              "       Airline Source Destination            Dep_Time  Minutes  Total_Stops  \\\n",
              "0       IndiGo    BLR         DEL 2019-03-24 22:20:00      170            0   \n",
              "1    Air India    CCU         BLR 2019-01-05 05:50:00      445            2   \n",
              "2  Jet Airways    DEL         COK 2019-09-06 09:25:00     1140            2   \n",
              "3       IndiGo    CCU         BLR 2019-12-05 18:05:00      325            1   \n",
              "4       IndiGo    BLR         DEL 2019-01-03 16:50:00      285            1   \n",
              "\n",
              "  Additional_Info  Price Stop_1 Stop_2 Stop_3 Stop_4  \n",
              "0         No info   3897    NaN    NaN    NaN    NaN  \n",
              "1         No info   7662   IXR    BBI     NaN    NaN  \n",
              "2         No info  13882   LKO    BOM     NaN    NaN  \n",
              "3         No info   6218   NAG     NaN    NaN    NaN  \n",
              "4         No info  13302   NAG     NaN    NaN    NaN  "
            ]
          },
          "metadata": {
            "tags": []
          },
          "execution_count": 190
        }
      ]
    },
    {
      "cell_type": "markdown",
      "metadata": {
        "id": "rcf14xF9ZIEg",
        "colab_type": "text"
      },
      "source": [
        "**Comment**: Wooh! The data looks cleaner"
      ]
    },
    {
      "cell_type": "markdown",
      "metadata": {
        "id": "bj0kYG50ZIEg",
        "colab_type": "text"
      },
      "source": [
        "### 2.4 Checking Additional_Info"
      ]
    },
    {
      "cell_type": "code",
      "metadata": {
        "id": "bncioSS7ZIEh",
        "colab_type": "code",
        "colab": {},
        "outputId": "53536c38-29e6-4f46-bbec-3a499cc00e3d"
      },
      "source": [
        "new_data[\"Additional_Info\"].value_counts()"
      ],
      "execution_count": 0,
      "outputs": [
        {
          "output_type": "execute_result",
          "data": {
            "text/plain": [
              "No info                         8345\n",
              "In-flight meal not included     1982\n",
              "No check-in baggage included     320\n",
              "1 Long layover                    19\n",
              "Change airports                    7\n",
              "Business class                     4\n",
              "No Info                            3\n",
              "Red-eye flight                     1\n",
              "2 Long layover                     1\n",
              "1 Short layover                    1\n",
              "Name: Additional_Info, dtype: int64"
            ]
          },
          "metadata": {
            "tags": []
          },
          "execution_count": 191
        }
      ]
    },
    {
      "cell_type": "code",
      "metadata": {
        "id": "tvjnSxCIZIEl",
        "colab_type": "code",
        "colab": {}
      },
      "source": [
        "new_data.loc[new_data[\"Additional_Info\"]==\"No Info\", \"Additional_Info\"] = \"No info\""
      ],
      "execution_count": 0,
      "outputs": []
    },
    {
      "cell_type": "markdown",
      "metadata": {
        "id": "9K_l1q21ZIEo",
        "colab_type": "text"
      },
      "source": [
        "# Visaulizations and Plottings"
      ]
    },
    {
      "cell_type": "markdown",
      "metadata": {
        "id": "JBRGD5raZIEo",
        "colab_type": "text"
      },
      "source": [
        "### Describing the features"
      ]
    },
    {
      "cell_type": "code",
      "metadata": {
        "id": "hXeLZb-hZIEp",
        "colab_type": "code",
        "colab": {},
        "outputId": "45df3125-2b83-43ed-b211-59041b7ac6b9"
      },
      "source": [
        "new_data.describe()"
      ],
      "execution_count": 0,
      "outputs": [
        {
          "output_type": "execute_result",
          "data": {
            "text/html": [
              "<div>\n",
              "<style scoped>\n",
              "    .dataframe tbody tr th:only-of-type {\n",
              "        vertical-align: middle;\n",
              "    }\n",
              "\n",
              "    .dataframe tbody tr th {\n",
              "        vertical-align: top;\n",
              "    }\n",
              "\n",
              "    .dataframe thead th {\n",
              "        text-align: right;\n",
              "    }\n",
              "</style>\n",
              "<table border=\"1\" class=\"dataframe\">\n",
              "  <thead>\n",
              "    <tr style=\"text-align: right;\">\n",
              "      <th></th>\n",
              "      <th>Minutes</th>\n",
              "      <th>Total_Stops</th>\n",
              "      <th>Price</th>\n",
              "    </tr>\n",
              "  </thead>\n",
              "  <tbody>\n",
              "    <tr>\n",
              "      <td>count</td>\n",
              "      <td>10683.000000</td>\n",
              "      <td>10683.000000</td>\n",
              "      <td>10683.000000</td>\n",
              "    </tr>\n",
              "    <tr>\n",
              "      <td>mean</td>\n",
              "      <td>643.120846</td>\n",
              "      <td>0.824113</td>\n",
              "      <td>9087.064121</td>\n",
              "    </tr>\n",
              "    <tr>\n",
              "      <td>std</td>\n",
              "      <td>507.835322</td>\n",
              "      <td>0.675244</td>\n",
              "      <td>4611.359167</td>\n",
              "    </tr>\n",
              "    <tr>\n",
              "      <td>min</td>\n",
              "      <td>75.000000</td>\n",
              "      <td>0.000000</td>\n",
              "      <td>1759.000000</td>\n",
              "    </tr>\n",
              "    <tr>\n",
              "      <td>25%</td>\n",
              "      <td>170.000000</td>\n",
              "      <td>0.000000</td>\n",
              "      <td>5277.000000</td>\n",
              "    </tr>\n",
              "    <tr>\n",
              "      <td>50%</td>\n",
              "      <td>520.000000</td>\n",
              "      <td>1.000000</td>\n",
              "      <td>8372.000000</td>\n",
              "    </tr>\n",
              "    <tr>\n",
              "      <td>75%</td>\n",
              "      <td>930.000000</td>\n",
              "      <td>1.000000</td>\n",
              "      <td>12373.000000</td>\n",
              "    </tr>\n",
              "    <tr>\n",
              "      <td>max</td>\n",
              "      <td>2860.000000</td>\n",
              "      <td>4.000000</td>\n",
              "      <td>79512.000000</td>\n",
              "    </tr>\n",
              "  </tbody>\n",
              "</table>\n",
              "</div>"
            ],
            "text/plain": [
              "            Minutes   Total_Stops         Price\n",
              "count  10683.000000  10683.000000  10683.000000\n",
              "mean     643.120846      0.824113   9087.064121\n",
              "std      507.835322      0.675244   4611.359167\n",
              "min       75.000000      0.000000   1759.000000\n",
              "25%      170.000000      0.000000   5277.000000\n",
              "50%      520.000000      1.000000   8372.000000\n",
              "75%      930.000000      1.000000  12373.000000\n",
              "max     2860.000000      4.000000  79512.000000"
            ]
          },
          "metadata": {
            "tags": []
          },
          "execution_count": 193
        }
      ]
    },
    {
      "cell_type": "markdown",
      "metadata": {
        "id": "csgZRlYJZIEt",
        "colab_type": "text"
      },
      "source": [
        "**Comments**: These are the only numerical features in our dataset"
      ]
    },
    {
      "cell_type": "markdown",
      "metadata": {
        "id": "7DUM15nQZIEu",
        "colab_type": "text"
      },
      "source": [
        "## Plotting Numerical features\n",
        "It's easier to visualize numerical features"
      ]
    },
    {
      "cell_type": "code",
      "metadata": {
        "scrolled": true,
        "id": "LLERIG6uZIEu",
        "colab_type": "code",
        "colab": {},
        "outputId": "2f3b15c0-e7de-4265-c66c-6d7399a80019"
      },
      "source": [
        "new_data[\"Total_Stops\"].hist()"
      ],
      "execution_count": 0,
      "outputs": [
        {
          "output_type": "execute_result",
          "data": {
            "text/plain": [
              "<matplotlib.axes._subplots.AxesSubplot at 0x1f8b02db048>"
            ]
          },
          "metadata": {
            "tags": []
          },
          "execution_count": 194
        },
        {
          "output_type": "display_data",
          "data": {
            "image/png": "[encoded data removed]",
            "text/plain": [
              "<Figure size 432x288 with 1 Axes>"
            ]
          },
          "metadata": {
            "tags": [],
            "needs_background": "light"
          }
        }
      ]
    },
    {
      "cell_type": "markdown",
      "metadata": {
        "id": "9vFFlhoMZIEz",
        "colab_type": "text"
      },
      "source": [
        "**NOTE**\n",
        "- **Numerical** : Line plot\n",
        "- **Nominal categorical** : Bar Plot\n",
        "- **Ordinal Categorical**: Histogram\n",
        "\n",
        "So, you can figure out, why I plotted a histogram for the Total_Stops feature."
      ]
    },
    {
      "cell_type": "code",
      "metadata": {
        "id": "-oVFLloDZIEz",
        "colab_type": "code",
        "colab": {},
        "outputId": "66e66354-70c7-48b2-ff40-b075a20185f9"
      },
      "source": [
        "new_data[\"Minutes\"].plot()"
      ],
      "execution_count": 0,
      "outputs": [
        {
          "output_type": "execute_result",
          "data": {
            "text/plain": [
              "<matplotlib.axes._subplots.AxesSubplot at 0x1f8b1b01d48>"
            ]
          },
          "metadata": {
            "tags": []
          },
          "execution_count": 195
        },
        {
          "output_type": "display_data",
          "data": {
            "image/png": "[encoded data removed]",
            "text/plain": [
              "<Figure size 432x288 with 1 Axes>"
            ]
          },
          "metadata": {
            "tags": [],
            "needs_background": "light"
          }
        }
      ]
    },
    {
      "cell_type": "markdown",
      "metadata": {
        "id": "8Qmij_AIZIE5",
        "colab_type": "text"
      },
      "source": [
        "**Comments**: As we can see, the plot for Minutes is highly noisy. <br>\n",
        "So, we should try to create bins and plot it to de-noise it. <br>\n",
        "Therefore, let us try Histogram (**Default bins are 10**)"
      ]
    },
    {
      "cell_type": "code",
      "metadata": {
        "scrolled": true,
        "id": "SLb4CYdJZIE5",
        "colab_type": "code",
        "colab": {},
        "outputId": "be9fa3f4-6b24-4bf4-c69b-f1583121169e"
      },
      "source": [
        "new_data[\"Minutes\"].hist()"
      ],
      "execution_count": 0,
      "outputs": [
        {
          "output_type": "execute_result",
          "data": {
            "text/plain": [
              "<matplotlib.axes._subplots.AxesSubplot at 0x1f8b0220b08>"
            ]
          },
          "metadata": {
            "tags": []
          },
          "execution_count": 196
        },
        {
          "output_type": "display_data",
          "data": {
            "image/png": "[encoded data removed]",
            "text/plain": [
              "<Figure size 432x288 with 1 Axes>"
            ]
          },
          "metadata": {
            "tags": [],
            "needs_background": "light"
          }
        }
      ]
    },
    {
      "cell_type": "code",
      "metadata": {
        "id": "5PjXXjJFZIE-",
        "colab_type": "code",
        "colab": {},
        "outputId": "0c35294f-032e-4394-89bd-0954e558cd64"
      },
      "source": [
        "#Less bins => More information lost\n",
        "#So let us try to increase bins\n",
        "new_data[\"Minutes\"].hist(bins=30)"
      ],
      "execution_count": 0,
      "outputs": [
        {
          "output_type": "execute_result",
          "data": {
            "text/plain": [
              "<matplotlib.axes._subplots.AxesSubplot at 0x1f8c072edc8>"
            ]
          },
          "metadata": {
            "tags": []
          },
          "execution_count": 197
        },
        {
          "output_type": "display_data",
          "data": {
            "image/png": "[encoded data removed]",
            "text/plain": [
              "<Figure size 432x288 with 1 Axes>"
            ]
          },
          "metadata": {
            "tags": [],
            "needs_background": "light"
          }
        }
      ]
    },
    {
      "cell_type": "code",
      "metadata": {
        "id": "xTxja_qsZIFB",
        "colab_type": "code",
        "colab": {},
        "outputId": "2c3b4c09-312c-405c-dc37-eec62017ce3d"
      },
      "source": [
        "new_data[\"Minutes\"].hist(bins=20)"
      ],
      "execution_count": 0,
      "outputs": [
        {
          "output_type": "execute_result",
          "data": {
            "text/plain": [
              "<matplotlib.axes._subplots.AxesSubplot at 0x1f8b1b74508>"
            ]
          },
          "metadata": {
            "tags": []
          },
          "execution_count": 198
        },
        {
          "output_type": "display_data",
          "data": {
            "image/png": "[encoded data removed]",
            "text/plain": [
              "<Figure size 432x288 with 1 Axes>"
            ]
          },
          "metadata": {
            "tags": [],
            "needs_background": "light"
          }
        }
      ]
    },
    {
      "cell_type": "markdown",
      "metadata": {
        "id": "BnxdKDIYZIFG",
        "colab_type": "text"
      },
      "source": [
        "**Minutes feature is highly right skewed with average at 520 minutes**"
      ]
    },
    {
      "cell_type": "markdown",
      "metadata": {
        "id": "sjzPVtuAZIFH",
        "colab_type": "text"
      },
      "source": [
        "## Plotting Categorical Features"
      ]
    },
    {
      "cell_type": "markdown",
      "metadata": {
        "id": "4Ju9z3wpZIFJ",
        "colab_type": "text"
      },
      "source": [
        "### Plotting Airline"
      ]
    },
    {
      "cell_type": "code",
      "metadata": {
        "id": "vlbn3mE4ZIFJ",
        "colab_type": "code",
        "colab": {},
        "outputId": "3328ac83-dd46-4878-e88d-2d720cef2485"
      },
      "source": [
        "new_data.groupby('Airline')['Price'].mean()"
      ],
      "execution_count": 0,
      "outputs": [
        {
          "output_type": "execute_result",
          "data": {
            "text/plain": [
              "Airline\n",
              "Air Asia                              5590.260188\n",
              "Air India                             9611.210616\n",
              "GoAir                                 5861.056701\n",
              "IndiGo                                5673.682903\n",
              "Jet Airways                          11643.923357\n",
              "Jet Airways Business                 58358.666667\n",
              "Multiple carriers                    10902.678094\n",
              "Multiple carriers Premium economy    11418.846154\n",
              "SpiceJet                              4338.284841\n",
              "Trujet                                4140.000000\n",
              "Vistara                               7796.348643\n",
              "Vistara Premium economy               8962.333333\n",
              "Name: Price, dtype: float64"
            ]
          },
          "metadata": {
            "tags": []
          },
          "execution_count": 199
        }
      ]
    },
    {
      "cell_type": "code",
      "metadata": {
        "id": "48kfiJQCZIFP",
        "colab_type": "code",
        "colab": {},
        "outputId": "85279742-d4f4-4262-e057-a5429d50138a"
      },
      "source": [
        "airline_grouped = new_data.groupby('Airline')['Price'].mean()\n",
        "\n",
        "airline_grouped.plot.bar()"
      ],
      "execution_count": 0,
      "outputs": [
        {
          "output_type": "execute_result",
          "data": {
            "text/plain": [
              "<matplotlib.axes._subplots.AxesSubplot at 0x1f8b1c1f888>"
            ]
          },
          "metadata": {
            "tags": []
          },
          "execution_count": 200
        },
        {
          "output_type": "display_data",
          "data": {
            "image/png": "[encoded data removed]",
            "text/plain": [
              "<Figure size 432x288 with 1 Axes>"
            ]
          },
          "metadata": {
            "tags": [],
            "needs_background": "light"
          }
        }
      ]
    },
    {
      "cell_type": "markdown",
      "metadata": {
        "id": "6BkzV4GpZIFT",
        "colab_type": "text"
      },
      "source": [
        "**Comments**: Jey Airaways Business has an extremely high price. <br>\n",
        "In airlines feature, Jet Airways Buisness is highly determining of the price of flight"
      ]
    },
    {
      "cell_type": "code",
      "metadata": {
        "id": "WQB1Gw2rZIFT",
        "colab_type": "code",
        "colab": {}
      },
      "source": [
        "#Plotting again, without Jet Airways Business"
      ],
      "execution_count": 0,
      "outputs": []
    },
    {
      "cell_type": "code",
      "metadata": {
        "id": "T6HOK5ihZIFV",
        "colab_type": "code",
        "colab": {},
        "outputId": "c00e2ac4-ddca-4b5b-cad9-a6dad7b01f51"
      },
      "source": [
        "airlines_excluded_grouped = airline_grouped.drop(['Jet Airways Business'])\n",
        "airlines_excluded_grouped.plot.bar()"
      ],
      "execution_count": 0,
      "outputs": [
        {
          "output_type": "execute_result",
          "data": {
            "text/plain": [
              "<matplotlib.axes._subplots.AxesSubplot at 0x1f8bfa67808>"
            ]
          },
          "metadata": {
            "tags": []
          },
          "execution_count": 202
        },
        {
          "output_type": "display_data",
          "data": {
            "image/png": "[encoded data removed]",
            "text/plain": [
              "<Figure size 432x288 with 1 Axes>"
            ]
          },
          "metadata": {
            "tags": [],
            "needs_background": "light"
          }
        }
      ]
    },
    {
      "cell_type": "markdown",
      "metadata": {
        "id": "TGZzlra2ZIFZ",
        "colab_type": "text"
      },
      "source": [
        "**Comment**: Not much can be inferred."
      ]
    },
    {
      "cell_type": "markdown",
      "metadata": {
        "id": "vIbziWt4ZIFZ",
        "colab_type": "text"
      },
      "source": [
        "### Checking Prices Monthly"
      ]
    },
    {
      "cell_type": "code",
      "metadata": {
        "id": "i-cRf14RZIFa",
        "colab_type": "code",
        "colab": {}
      },
      "source": [
        "new_data['Dep_Time'] = pd.to_datetime(new_data['Dep_Time'])"
      ],
      "execution_count": 0,
      "outputs": []
    },
    {
      "cell_type": "code",
      "metadata": {
        "id": "QFuFLMP4ZIFd",
        "colab_type": "code",
        "colab": {},
        "outputId": "7062adc6-9169-4ab9-cb9b-cfd2fec3c9f5"
      },
      "source": [
        "new_data.groupby(new_data[\"Dep_Time\"].dt.month)[\"Price\"].mean()"
      ],
      "execution_count": 0,
      "outputs": [
        {
          "output_type": "execute_result",
          "data": {
            "text/plain": [
              "Dep_Time\n",
              "1     10492.642791\n",
              "3      8433.839891\n",
              "4      5230.860849\n",
              "5      9361.077628\n",
              "6      9214.964905\n",
              "9      9551.474395\n",
              "12     9110.774295\n",
              "Name: Price, dtype: float64"
            ]
          },
          "metadata": {
            "tags": []
          },
          "execution_count": 204
        }
      ]
    },
    {
      "cell_type": "code",
      "metadata": {
        "id": "kSs6_5moZIFg",
        "colab_type": "code",
        "colab": {},
        "outputId": "1c329b12-f929-4fa8-d56a-2b98e44ecac5"
      },
      "source": [
        "month_average = new_data.groupby(new_data[\"Dep_Time\"].dt.month)[\"Price\"].mean()\n",
        "month_average.index = [\"January\", \"March\", \"April\", \"May\", \"June\", \"September\", \"December\"]\n",
        "month_average.plot.bar()"
      ],
      "execution_count": 0,
      "outputs": [
        {
          "output_type": "execute_result",
          "data": {
            "text/plain": [
              "<matplotlib.axes._subplots.AxesSubplot at 0x1f8b04b80c8>"
            ]
          },
          "metadata": {
            "tags": []
          },
          "execution_count": 205
        },
        {
          "output_type": "display_data",
          "data": {
            "image/png": "[encoded data removed]",
            "text/plain": [
              "<Figure size 432x288 with 1 Axes>"
            ]
          },
          "metadata": {
            "tags": [],
            "needs_background": "light"
          }
        }
      ]
    },
    {
      "cell_type": "markdown",
      "metadata": {
        "id": "7gQ3htewZIFk",
        "colab_type": "text"
      },
      "source": [
        "**Comments**: Prices dipped in **April**. Highest in **January** <br>\n",
        "**IMPORTANT: No data given for February, June, July, August, October and November**"
      ]
    },
    {
      "cell_type": "markdown",
      "metadata": {
        "id": "SIgrGq8MZIFl",
        "colab_type": "text"
      },
      "source": [
        "### Is there a relation between the Day of the ticket booked?"
      ]
    },
    {
      "cell_type": "code",
      "metadata": {
        "id": "GxbCmESSZIFl",
        "colab_type": "code",
        "colab": {},
        "outputId": "6b79620b-5975-445e-c365-81824fbe734f"
      },
      "source": [
        "new_data.groupby(new_data[\"Dep_Time\"].dt.weekday_name)[\"Price\"].mean()"
      ],
      "execution_count": 0,
      "outputs": [
        {
          "output_type": "execute_result",
          "data": {
            "text/plain": [
              "Dep_Time\n",
              "Friday       8556.502220\n",
              "Monday       9721.101945\n",
              "Saturday     8894.375727\n",
              "Sunday       9556.827684\n",
              "Thursday     9805.088646\n",
              "Tuesday      8960.452265\n",
              "Wednesday    7996.290807\n",
              "Name: Price, dtype: float64"
            ]
          },
          "metadata": {
            "tags": []
          },
          "execution_count": 206
        }
      ]
    },
    {
      "cell_type": "code",
      "metadata": {
        "id": "bGT5zs0CZIFp",
        "colab_type": "code",
        "colab": {},
        "outputId": "75434900-28b1-4d32-ff08-f7dac4feef15"
      },
      "source": [
        "days = [\"Monday\",\"Tuesday\", \"Wednesday\", \"Thursday\", \"Friday\", \"Saturday\", \"Sunday\"]\n",
        "weekday_grouped = new_data.groupby(new_data[\"Dep_Time\"].dt.weekday_name)[\"Price\"].mean().reindex(days)\n",
        "weekday_grouped.plot.bar()"
      ],
      "execution_count": 0,
      "outputs": [
        {
          "output_type": "execute_result",
          "data": {
            "text/plain": [
              "<matplotlib.axes._subplots.AxesSubplot at 0x1f8bfb62208>"
            ]
          },
          "metadata": {
            "tags": []
          },
          "execution_count": 207
        },
        {
          "output_type": "display_data",
          "data": {
            "image/png": "[encoded data removed]",
            "text/plain": [
              "<Figure size 432x288 with 1 Axes>"
            ]
          },
          "metadata": {
            "tags": [],
            "needs_background": "light"
          }
        }
      ]
    },
    {
      "cell_type": "markdown",
      "metadata": {
        "id": "erSD5RLKZIFs",
        "colab_type": "text"
      },
      "source": [
        "**Comments**: <br>\n",
        "Sunday, Monday and Thursday one of the highest. <br>\n",
        "Prices dip from Monday to Wednesday and increases from Friday to Sunday"
      ]
    },
    {
      "cell_type": "markdown",
      "metadata": {
        "id": "gmgQQp7jZIFs",
        "colab_type": "text"
      },
      "source": [
        "## Is there any relation between the day of the month the ticket is booked?"
      ]
    },
    {
      "cell_type": "code",
      "metadata": {
        "id": "JSdSvX9oZIFt",
        "colab_type": "code",
        "colab": {},
        "outputId": "649d78e0-bfd2-469d-b888-53e62b3b4cb1"
      },
      "source": [
        "new_data.groupby(new_data[\"Dep_Time\"].dt.day)[\"Price\"].mean()"
      ],
      "execution_count": 0,
      "outputs": [
        {
          "output_type": "execute_result",
          "data": {
            "text/plain": [
              "Dep_Time\n",
              "3     13294.191036\n",
              "4      6120.395420\n",
              "5      8778.854167\n",
              "6      9305.855956\n",
              "15     8127.810976\n",
              "18     8671.573317\n",
              "21     8351.760576\n",
              "24     8399.446768\n",
              "27     8204.128319\n",
              "Name: Price, dtype: float64"
            ]
          },
          "metadata": {
            "tags": []
          },
          "execution_count": 208
        }
      ]
    },
    {
      "cell_type": "code",
      "metadata": {
        "id": "p5gcJimYZIFv",
        "colab_type": "code",
        "colab": {},
        "outputId": "931b620f-12dc-4272-e856-aeba0360981c"
      },
      "source": [
        "day_grouped = new_data.groupby(new_data[\"Dep_Time\"].dt.day)[\"Price\"].mean()\n",
        "day_grouped.plot.bar()"
      ],
      "execution_count": 0,
      "outputs": [
        {
          "output_type": "execute_result",
          "data": {
            "text/plain": [
              "<matplotlib.axes._subplots.AxesSubplot at 0x1f8bfbcc2c8>"
            ]
          },
          "metadata": {
            "tags": []
          },
          "execution_count": 209
        },
        {
          "output_type": "display_data",
          "data": {
            "image/png": "[encoded data removed]",
            "text/plain": [
              "<Figure size 432x288 with 1 Axes>"
            ]
          },
          "metadata": {
            "tags": [],
            "needs_background": "light"
          }
        }
      ]
    },
    {
      "cell_type": "markdown",
      "metadata": {
        "id": "U1Gl1JrpZIFz",
        "colab_type": "text"
      },
      "source": [
        "## Is there a relation between the time of the day the ticket is booked?"
      ]
    },
    {
      "cell_type": "code",
      "metadata": {
        "id": "h3NwkTgsZIF0",
        "colab_type": "code",
        "colab": {}
      },
      "source": [
        "time_grouped = new_data.groupby(new_data[\"Dep_Time\"].dt.hour)['Price'].mean()"
      ],
      "execution_count": 0,
      "outputs": []
    },
    {
      "cell_type": "code",
      "metadata": {
        "id": "wxFHvaISZIF2",
        "colab_type": "code",
        "colab": {},
        "outputId": "de0d8111-2722-4e29-dad9-64a764f59bfe"
      },
      "source": [
        "time_grouped.plot.bar()"
      ],
      "execution_count": 0,
      "outputs": [
        {
          "output_type": "execute_result",
          "data": {
            "text/plain": [
              "<matplotlib.axes._subplots.AxesSubplot at 0x1f8bfc46808>"
            ]
          },
          "metadata": {
            "tags": []
          },
          "execution_count": 211
        },
        {
          "output_type": "display_data",
          "data": {
            "image/png": "[encoded data removed]",
            "text/plain": [
              "<Figure size 432x288 with 1 Axes>"
            ]
          },
          "metadata": {
            "tags": [],
            "needs_background": "light"
          }
        }
      ]
    },
    {
      "cell_type": "markdown",
      "metadata": {
        "id": "njW9KYBwZIF6",
        "colab_type": "text"
      },
      "source": [
        "**Comments**: <br>\n",
        "Only 9 days data from 6 months given <br>\n",
        "The tickets are booked highest on 3rd"
      ]
    },
    {
      "cell_type": "markdown",
      "metadata": {
        "id": "xEzOfI2EZIF6",
        "colab_type": "text"
      },
      "source": [
        "## Can we see any relation with Additional Info?"
      ]
    },
    {
      "cell_type": "code",
      "metadata": {
        "id": "NGhIPMdUZIF_",
        "colab_type": "code",
        "colab": {},
        "outputId": "aa716376-af13-4324-ec3a-50b02d9d2016"
      },
      "source": [
        "new_data.groupby('Additional_Info')['Price'].mean()"
      ],
      "execution_count": 0,
      "outputs": [
        {
          "output_type": "execute_result",
          "data": {
            "text/plain": [
              "Additional_Info\n",
              "1 Long layover                  22109.631579\n",
              "1 Short layover                 26743.000000\n",
              "2 Long layover                  26480.000000\n",
              "Business class                  56811.250000\n",
              "Change airports                 16800.714286\n",
              "In-flight meal not included      9471.834511\n",
              "No check-in baggage included     3645.156250\n",
              "No info                          9140.926090\n",
              "Red-eye flight                  10873.000000\n",
              "Name: Price, dtype: float64"
            ]
          },
          "metadata": {
            "tags": []
          },
          "execution_count": 212
        }
      ]
    },
    {
      "cell_type": "code",
      "metadata": {
        "id": "IYz5kS7eZIGE",
        "colab_type": "code",
        "colab": {},
        "outputId": "7cc71a39-e951-45f0-a185-6bc72683b170"
      },
      "source": [
        "info_grouped = new_data.groupby('Additional_Info')['Price'].mean()\n",
        "info_grouped.plot.bar()"
      ],
      "execution_count": 0,
      "outputs": [
        {
          "output_type": "execute_result",
          "data": {
            "text/plain": [
              "<matplotlib.axes._subplots.AxesSubplot at 0x1f8bfd07288>"
            ]
          },
          "metadata": {
            "tags": []
          },
          "execution_count": 213
        },
        {
          "output_type": "display_data",
          "data": {
            "image/png": "[encoded data removed]",
            "text/plain": [
              "<Figure size 432x288 with 1 Axes>"
            ]
          },
          "metadata": {
            "tags": [],
            "needs_background": "light"
          }
        }
      ]
    },
    {
      "cell_type": "markdown",
      "metadata": {
        "id": "styoG03vZIGH",
        "colab_type": "text"
      },
      "source": [
        "**Comments**: Busines class plays an important role."
      ]
    },
    {
      "cell_type": "markdown",
      "metadata": {
        "id": "qoUOjagJZIGH",
        "colab_type": "text"
      },
      "source": [
        "## Does the minutes of Flight affect the price?"
      ]
    },
    {
      "cell_type": "code",
      "metadata": {
        "id": "EI5UY5wtZIGI",
        "colab_type": "code",
        "colab": {},
        "outputId": "56732c27-8146-4590-834e-fa89991b5dae"
      },
      "source": [
        "new_data[\"Minutes\"].values.max()"
      ],
      "execution_count": 0,
      "outputs": [
        {
          "output_type": "execute_result",
          "data": {
            "text/plain": [
              "2860"
            ]
          },
          "metadata": {
            "tags": []
          },
          "execution_count": 214
        }
      ]
    },
    {
      "cell_type": "code",
      "metadata": {
        "id": "W8RRkbvaZIGL",
        "colab_type": "code",
        "colab": {},
        "outputId": "01e6a749-7586-4bac-c200-6d585e4e6412"
      },
      "source": [
        "new_data[\"Minutes\"].values.min()"
      ],
      "execution_count": 0,
      "outputs": [
        {
          "output_type": "execute_result",
          "data": {
            "text/plain": [
              "75"
            ]
          },
          "metadata": {
            "tags": []
          },
          "execution_count": 215
        }
      ]
    },
    {
      "cell_type": "code",
      "metadata": {
        "id": "3xZbivSLZIGN",
        "colab_type": "code",
        "colab": {}
      },
      "source": [
        "NUM_BINS = (2860 - 75)//300\n",
        "bins = np.linspace(75,2860,NUM_BINS) #Bins in the interval of 5 hours (300 mins)\n",
        "hours_df = pd.cut(new_data['Minutes'], bins)"
      ],
      "execution_count": 0,
      "outputs": []
    },
    {
      "cell_type": "code",
      "metadata": {
        "id": "XZA20GnIZIGQ",
        "colab_type": "code",
        "colab": {},
        "outputId": "db59ff9e-0a88-4b7f-da3b-69aa12c322ca"
      },
      "source": [
        "hours_df"
      ],
      "execution_count": 0,
      "outputs": [
        {
          "output_type": "execute_result",
          "data": {
            "text/plain": [
              "0           (75.0, 423.125]\n",
              "1         (423.125, 771.25]\n",
              "2        (1119.375, 1467.5]\n",
              "3           (75.0, 423.125]\n",
              "4           (75.0, 423.125]\n",
              "                ...        \n",
              "10678       (75.0, 423.125]\n",
              "10679       (75.0, 423.125]\n",
              "10680       (75.0, 423.125]\n",
              "10681       (75.0, 423.125]\n",
              "10682     (423.125, 771.25]\n",
              "Name: Minutes, Length: 10683, dtype: category\n",
              "Categories (8, interval[float64]): [(75.0, 423.125] < (423.125, 771.25] < (771.25, 1119.375] < (1119.375, 1467.5] < (1467.5, 1815.625] < (1815.625, 2163.75] < (2163.75, 2511.875] < (2511.875, 2860.0]]"
            ]
          },
          "metadata": {
            "tags": []
          },
          "execution_count": 217
        }
      ]
    },
    {
      "cell_type": "code",
      "metadata": {
        "id": "rQ8qceeAZIGT",
        "colab_type": "code",
        "colab": {},
        "outputId": "87e83e3c-f888-4737-9561-32dec8f527f5"
      },
      "source": [
        "new_data.groupby(hours_df)['Price'].mean()"
      ],
      "execution_count": 0,
      "outputs": [
        {
          "output_type": "execute_result",
          "data": {
            "text/plain": [
              "Minutes\n",
              "(75.0, 423.125]         6054.689157\n",
              "(423.125, 771.25]      11134.966219\n",
              "(771.25, 1119.375]     11035.499331\n",
              "(1119.375, 1467.5]     12055.007380\n",
              "(1467.5, 1815.625]     11617.182119\n",
              "(1815.625, 2163.75]    12496.873563\n",
              "(2163.75, 2511.875]    12127.000000\n",
              "(2511.875, 2860.0]     16310.250000\n",
              "Name: Price, dtype: float64"
            ]
          },
          "metadata": {
            "tags": []
          },
          "execution_count": 218
        }
      ]
    },
    {
      "cell_type": "code",
      "metadata": {
        "id": "QOeUZphNZIGV",
        "colab_type": "code",
        "colab": {},
        "outputId": "50bc4787-cefa-4aa6-ce07-d086a5bd3b75"
      },
      "source": [
        "new_data.groupby(hours_df)['Price'].mean().plot.bar()"
      ],
      "execution_count": 0,
      "outputs": [
        {
          "output_type": "execute_result",
          "data": {
            "text/plain": [
              "<matplotlib.axes._subplots.AxesSubplot at 0x1f8bfd95408>"
            ]
          },
          "metadata": {
            "tags": []
          },
          "execution_count": 219
        },
        {
          "output_type": "display_data",
          "data": {
            "image/png": "[encoded data removed]",
            "text/plain": [
              "<Figure size 432x288 with 1 Axes>"
            ]
          },
          "metadata": {
            "tags": [],
            "needs_background": "light"
          }
        }
      ]
    },
    {
      "cell_type": "markdown",
      "metadata": {
        "id": "6ZDnsvIDZIGX",
        "colab_type": "text"
      },
      "source": [
        "**Comments** The price generally increases with increase in minutes"
      ]
    },
    {
      "cell_type": "code",
      "metadata": {
        "id": "tb7B-L8OZIGY",
        "colab_type": "code",
        "colab": {},
        "outputId": "2279f931-44af-4a0b-b2fa-7578116bd0b5"
      },
      "source": [
        "new_data[[\"Minutes\", \"Price\"]].corr()"
      ],
      "execution_count": 0,
      "outputs": [
        {
          "output_type": "execute_result",
          "data": {
            "text/html": [
              "<div>\n",
              "<style scoped>\n",
              "    .dataframe tbody tr th:only-of-type {\n",
              "        vertical-align: middle;\n",
              "    }\n",
              "\n",
              "    .dataframe tbody tr th {\n",
              "        vertical-align: top;\n",
              "    }\n",
              "\n",
              "    .dataframe thead th {\n",
              "        text-align: right;\n",
              "    }\n",
              "</style>\n",
              "<table border=\"1\" class=\"dataframe\">\n",
              "  <thead>\n",
              "    <tr style=\"text-align: right;\">\n",
              "      <th></th>\n",
              "      <th>Minutes</th>\n",
              "      <th>Price</th>\n",
              "    </tr>\n",
              "  </thead>\n",
              "  <tbody>\n",
              "    <tr>\n",
              "      <td>Minutes</td>\n",
              "      <td>1.000000</td>\n",
              "      <td>0.506495</td>\n",
              "    </tr>\n",
              "    <tr>\n",
              "      <td>Price</td>\n",
              "      <td>0.506495</td>\n",
              "      <td>1.000000</td>\n",
              "    </tr>\n",
              "  </tbody>\n",
              "</table>\n",
              "</div>"
            ],
            "text/plain": [
              "          Minutes     Price\n",
              "Minutes  1.000000  0.506495\n",
              "Price    0.506495  1.000000"
            ]
          },
          "metadata": {
            "tags": []
          },
          "execution_count": 220
        }
      ]
    },
    {
      "cell_type": "markdown",
      "metadata": {
        "id": "E_IfAgImZIGb",
        "colab_type": "text"
      },
      "source": [
        "**Comment**: The minutes and price has a correlation of 0.5"
      ]
    },
    {
      "cell_type": "markdown",
      "metadata": {
        "id": "jVadqy6tZIGb",
        "colab_type": "text"
      },
      "source": [
        "## Most Important: Does Source and Destination matters?"
      ]
    },
    {
      "cell_type": "code",
      "metadata": {
        "scrolled": true,
        "id": "q5z-8pcXZIGc",
        "colab_type": "code",
        "colab": {},
        "outputId": "e413dd8e-4308-40af-ee12-ad7c19353c7c"
      },
      "source": [
        "source_grouped = new_data.groupby('Source')[\"Price\"].mean()\n",
        "source_grouped.plot.bar()"
      ],
      "execution_count": 0,
      "outputs": [
        {
          "output_type": "execute_result",
          "data": {
            "text/plain": [
              "<matplotlib.axes._subplots.AxesSubplot at 0x1f8bfe534c8>"
            ]
          },
          "metadata": {
            "tags": []
          },
          "execution_count": 221
        },
        {
          "output_type": "display_data",
          "data": {
            "image/png": "[encoded data removed]",
            "text/plain": [
              "<Figure size 432x288 with 1 Axes>"
            ]
          },
          "metadata": {
            "tags": [],
            "needs_background": "light"
          }
        }
      ]
    },
    {
      "cell_type": "markdown",
      "metadata": {
        "id": "UdxgUG7rZIGf",
        "colab_type": "text"
      },
      "source": [
        "**Comment**: Flights leaving from Delhi and CCU have a higher rate in general"
      ]
    },
    {
      "cell_type": "code",
      "metadata": {
        "id": "4PtFZw1PZIGg",
        "colab_type": "code",
        "colab": {},
        "outputId": "2bd18498-e9cf-4f4c-babb-ba82a0d1f39c"
      },
      "source": [
        "dest_grouped = new_data.groupby('Destination')[\"Price\"].mean()\n",
        "dest_grouped.plot.bar()"
      ],
      "execution_count": 0,
      "outputs": [
        {
          "output_type": "execute_result",
          "data": {
            "text/plain": [
              "<matplotlib.axes._subplots.AxesSubplot at 0x1f8bfe9f588>"
            ]
          },
          "metadata": {
            "tags": []
          },
          "execution_count": 222
        },
        {
          "output_type": "display_data",
          "data": {
            "image/png": "[encoded data removed]",
            "text/plain": [
              "<Figure size 432x288 with 1 Axes>"
            ]
          },
          "metadata": {
            "tags": [],
            "needs_background": "light"
          }
        }
      ]
    },
    {
      "cell_type": "markdown",
      "metadata": {
        "id": "Sb-EFLo8ZIGl",
        "colab_type": "text"
      },
      "source": [
        "## Last Data Formatting: Splitting Dep_Time into Hour, Day, Month"
      ]
    },
    {
      "cell_type": "code",
      "metadata": {
        "id": "2lMsE1buZIGl",
        "colab_type": "code",
        "colab": {},
        "outputId": "2d346cd8-ae82-447d-d78c-fa16e0fbe4e0"
      },
      "source": [
        "new_data.head()"
      ],
      "execution_count": 0,
      "outputs": [
        {
          "output_type": "execute_result",
          "data": {
            "text/html": [
              "<div>\n",
              "<style scoped>\n",
              "    .dataframe tbody tr th:only-of-type {\n",
              "        vertical-align: middle;\n",
              "    }\n",
              "\n",
              "    .dataframe tbody tr th {\n",
              "        vertical-align: top;\n",
              "    }\n",
              "\n",
              "    .dataframe thead th {\n",
              "        text-align: right;\n",
              "    }\n",
              "</style>\n",
              "<table border=\"1\" class=\"dataframe\">\n",
              "  <thead>\n",
              "    <tr style=\"text-align: right;\">\n",
              "      <th></th>\n",
              "      <th>Airline</th>\n",
              "      <th>Source</th>\n",
              "      <th>Destination</th>\n",
              "      <th>Dep_Time</th>\n",
              "      <th>Minutes</th>\n",
              "      <th>Total_Stops</th>\n",
              "      <th>Additional_Info</th>\n",
              "      <th>Price</th>\n",
              "      <th>Stop_1</th>\n",
              "      <th>Stop_2</th>\n",
              "      <th>Stop_3</th>\n",
              "      <th>Stop_4</th>\n",
              "    </tr>\n",
              "  </thead>\n",
              "  <tbody>\n",
              "    <tr>\n",
              "      <td>0</td>\n",
              "      <td>IndiGo</td>\n",
              "      <td>BLR</td>\n",
              "      <td>DEL</td>\n",
              "      <td>2019-03-24 22:20:00</td>\n",
              "      <td>170</td>\n",
              "      <td>0</td>\n",
              "      <td>No info</td>\n",
              "      <td>3897</td>\n",
              "      <td>NaN</td>\n",
              "      <td>NaN</td>\n",
              "      <td>NaN</td>\n",
              "      <td>NaN</td>\n",
              "    </tr>\n",
              "    <tr>\n",
              "      <td>1</td>\n",
              "      <td>Air India</td>\n",
              "      <td>CCU</td>\n",
              "      <td>BLR</td>\n",
              "      <td>2019-01-05 05:50:00</td>\n",
              "      <td>445</td>\n",
              "      <td>2</td>\n",
              "      <td>No info</td>\n",
              "      <td>7662</td>\n",
              "      <td>IXR</td>\n",
              "      <td>BBI</td>\n",
              "      <td>NaN</td>\n",
              "      <td>NaN</td>\n",
              "    </tr>\n",
              "    <tr>\n",
              "      <td>2</td>\n",
              "      <td>Jet Airways</td>\n",
              "      <td>DEL</td>\n",
              "      <td>COK</td>\n",
              "      <td>2019-09-06 09:25:00</td>\n",
              "      <td>1140</td>\n",
              "      <td>2</td>\n",
              "      <td>No info</td>\n",
              "      <td>13882</td>\n",
              "      <td>LKO</td>\n",
              "      <td>BOM</td>\n",
              "      <td>NaN</td>\n",
              "      <td>NaN</td>\n",
              "    </tr>\n",
              "    <tr>\n",
              "      <td>3</td>\n",
              "      <td>IndiGo</td>\n",
              "      <td>CCU</td>\n",
              "      <td>BLR</td>\n",
              "      <td>2019-12-05 18:05:00</td>\n",
              "      <td>325</td>\n",
              "      <td>1</td>\n",
              "      <td>No info</td>\n",
              "      <td>6218</td>\n",
              "      <td>NAG</td>\n",
              "      <td>NaN</td>\n",
              "      <td>NaN</td>\n",
              "      <td>NaN</td>\n",
              "    </tr>\n",
              "    <tr>\n",
              "      <td>4</td>\n",
              "      <td>IndiGo</td>\n",
              "      <td>BLR</td>\n",
              "      <td>DEL</td>\n",
              "      <td>2019-01-03 16:50:00</td>\n",
              "      <td>285</td>\n",
              "      <td>1</td>\n",
              "      <td>No info</td>\n",
              "      <td>13302</td>\n",
              "      <td>NAG</td>\n",
              "      <td>NaN</td>\n",
              "      <td>NaN</td>\n",
              "      <td>NaN</td>\n",
              "    </tr>\n",
              "  </tbody>\n",
              "</table>\n",
              "</div>"
            ],
            "text/plain": [
              "       Airline Source Destination            Dep_Time  Minutes  Total_Stops  \\\n",
              "0       IndiGo    BLR         DEL 2019-03-24 22:20:00      170            0   \n",
              "1    Air India    CCU         BLR 2019-01-05 05:50:00      445            2   \n",
              "2  Jet Airways    DEL         COK 2019-09-06 09:25:00     1140            2   \n",
              "3       IndiGo    CCU         BLR 2019-12-05 18:05:00      325            1   \n",
              "4       IndiGo    BLR         DEL 2019-01-03 16:50:00      285            1   \n",
              "\n",
              "  Additional_Info  Price Stop_1 Stop_2 Stop_3 Stop_4  \n",
              "0         No info   3897    NaN    NaN    NaN    NaN  \n",
              "1         No info   7662   IXR    BBI     NaN    NaN  \n",
              "2         No info  13882   LKO    BOM     NaN    NaN  \n",
              "3         No info   6218   NAG     NaN    NaN    NaN  \n",
              "4         No info  13302   NAG     NaN    NaN    NaN  "
            ]
          },
          "metadata": {
            "tags": []
          },
          "execution_count": 223
        }
      ]
    },
    {
      "cell_type": "markdown",
      "metadata": {
        "id": "R9q9Q7AGZIGn",
        "colab_type": "text"
      },
      "source": [
        "**Comment**: Now, we will split Dep_Time into different columns as: Day, Month and Hour"
      ]
    },
    {
      "cell_type": "markdown",
      "metadata": {
        "id": "uLR4lHGWZIGn",
        "colab_type": "text"
      },
      "source": [
        "- The **Day (Mon, Tue, Wed, etc)** features affects the prices (graph above)\n",
        "- The **Month (Jan, March, etc)** feature also affects the prices"
      ]
    },
    {
      "cell_type": "code",
      "metadata": {
        "id": "2Diy9vZzZIGp",
        "colab_type": "code",
        "colab": {},
        "outputId": "3f19452b-0bd9-4615-9b3b-618394a5d742"
      },
      "source": [
        "#Creating a new dataframe\n",
        "temp_df = new_data.copy()\n",
        "temp_df[\"Dep_Day\"] = new_data[\"Dep_Time\"].dt.weekday.values\n",
        "temp_df[\"Dep_Month\"] = new_data[\"Dep_Time\"].dt.month.values\n",
        "temp_df[\"Dep_Hour\"] = new_data[\"Dep_Time\"].dt.hour.values\n",
        "temp_df.drop(labels=[\"Dep_Time\"], axis = 'columns', inplace = True)\n",
        "temp_df.head()"
      ],
      "execution_count": 0,
      "outputs": [
        {
          "output_type": "execute_result",
          "data": {
            "text/html": [
              "<div>\n",
              "<style scoped>\n",
              "    .dataframe tbody tr th:only-of-type {\n",
              "        vertical-align: middle;\n",
              "    }\n",
              "\n",
              "    .dataframe tbody tr th {\n",
              "        vertical-align: top;\n",
              "    }\n",
              "\n",
              "    .dataframe thead th {\n",
              "        text-align: right;\n",
              "    }\n",
              "</style>\n",
              "<table border=\"1\" class=\"dataframe\">\n",
              "  <thead>\n",
              "    <tr style=\"text-align: right;\">\n",
              "      <th></th>\n",
              "      <th>Airline</th>\n",
              "      <th>Source</th>\n",
              "      <th>Destination</th>\n",
              "      <th>Minutes</th>\n",
              "      <th>Total_Stops</th>\n",
              "      <th>Additional_Info</th>\n",
              "      <th>Price</th>\n",
              "      <th>Stop_1</th>\n",
              "      <th>Stop_2</th>\n",
              "      <th>Stop_3</th>\n",
              "      <th>Stop_4</th>\n",
              "      <th>Dep_Day</th>\n",
              "      <th>Dep_Month</th>\n",
              "      <th>Dep_Hour</th>\n",
              "    </tr>\n",
              "  </thead>\n",
              "  <tbody>\n",
              "    <tr>\n",
              "      <td>0</td>\n",
              "      <td>IndiGo</td>\n",
              "      <td>BLR</td>\n",
              "      <td>DEL</td>\n",
              "      <td>170</td>\n",
              "      <td>0</td>\n",
              "      <td>No info</td>\n",
              "      <td>3897</td>\n",
              "      <td>NaN</td>\n",
              "      <td>NaN</td>\n",
              "      <td>NaN</td>\n",
              "      <td>NaN</td>\n",
              "      <td>6</td>\n",
              "      <td>3</td>\n",
              "      <td>22</td>\n",
              "    </tr>\n",
              "    <tr>\n",
              "      <td>1</td>\n",
              "      <td>Air India</td>\n",
              "      <td>CCU</td>\n",
              "      <td>BLR</td>\n",
              "      <td>445</td>\n",
              "      <td>2</td>\n",
              "      <td>No info</td>\n",
              "      <td>7662</td>\n",
              "      <td>IXR</td>\n",
              "      <td>BBI</td>\n",
              "      <td>NaN</td>\n",
              "      <td>NaN</td>\n",
              "      <td>5</td>\n",
              "      <td>1</td>\n",
              "      <td>5</td>\n",
              "    </tr>\n",
              "    <tr>\n",
              "      <td>2</td>\n",
              "      <td>Jet Airways</td>\n",
              "      <td>DEL</td>\n",
              "      <td>COK</td>\n",
              "      <td>1140</td>\n",
              "      <td>2</td>\n",
              "      <td>No info</td>\n",
              "      <td>13882</td>\n",
              "      <td>LKO</td>\n",
              "      <td>BOM</td>\n",
              "      <td>NaN</td>\n",
              "      <td>NaN</td>\n",
              "      <td>4</td>\n",
              "      <td>9</td>\n",
              "      <td>9</td>\n",
              "    </tr>\n",
              "    <tr>\n",
              "      <td>3</td>\n",
              "      <td>IndiGo</td>\n",
              "      <td>CCU</td>\n",
              "      <td>BLR</td>\n",
              "      <td>325</td>\n",
              "      <td>1</td>\n",
              "      <td>No info</td>\n",
              "      <td>6218</td>\n",
              "      <td>NAG</td>\n",
              "      <td>NaN</td>\n",
              "      <td>NaN</td>\n",
              "      <td>NaN</td>\n",
              "      <td>3</td>\n",
              "      <td>12</td>\n",
              "      <td>18</td>\n",
              "    </tr>\n",
              "    <tr>\n",
              "      <td>4</td>\n",
              "      <td>IndiGo</td>\n",
              "      <td>BLR</td>\n",
              "      <td>DEL</td>\n",
              "      <td>285</td>\n",
              "      <td>1</td>\n",
              "      <td>No info</td>\n",
              "      <td>13302</td>\n",
              "      <td>NAG</td>\n",
              "      <td>NaN</td>\n",
              "      <td>NaN</td>\n",
              "      <td>NaN</td>\n",
              "      <td>3</td>\n",
              "      <td>1</td>\n",
              "      <td>16</td>\n",
              "    </tr>\n",
              "  </tbody>\n",
              "</table>\n",
              "</div>"
            ],
            "text/plain": [
              "       Airline Source Destination  Minutes  Total_Stops Additional_Info  \\\n",
              "0       IndiGo    BLR         DEL      170            0         No info   \n",
              "1    Air India    CCU         BLR      445            2         No info   \n",
              "2  Jet Airways    DEL         COK     1140            2         No info   \n",
              "3       IndiGo    CCU         BLR      325            1         No info   \n",
              "4       IndiGo    BLR         DEL      285            1         No info   \n",
              "\n",
              "   Price Stop_1 Stop_2 Stop_3 Stop_4  Dep_Day  Dep_Month  Dep_Hour  \n",
              "0   3897    NaN    NaN    NaN    NaN        6          3        22  \n",
              "1   7662   IXR    BBI     NaN    NaN        5          1         5  \n",
              "2  13882   LKO    BOM     NaN    NaN        4          9         9  \n",
              "3   6218   NAG     NaN    NaN    NaN        3         12        18  \n",
              "4  13302   NAG     NaN    NaN    NaN        3          1        16  "
            ]
          },
          "metadata": {
            "tags": []
          },
          "execution_count": 224
        }
      ]
    },
    {
      "cell_type": "code",
      "metadata": {
        "id": "pySUbFwFZIGt",
        "colab_type": "code",
        "colab": {}
      },
      "source": [
        "temp_df.loc[temp_df[\"Additional_Info\"] == \"No info\", \"Additional_Info\"] = np.nan"
      ],
      "execution_count": 0,
      "outputs": []
    },
    {
      "cell_type": "code",
      "metadata": {
        "id": "glHZ7EuKZIG8",
        "colab_type": "code",
        "colab": {},
        "outputId": "54a70cb2-ece6-480a-e601-3d111f3ce154"
      },
      "source": [
        "temp_df.head()"
      ],
      "execution_count": 0,
      "outputs": [
        {
          "output_type": "execute_result",
          "data": {
            "text/html": [
              "<div>\n",
              "<style scoped>\n",
              "    .dataframe tbody tr th:only-of-type {\n",
              "        vertical-align: middle;\n",
              "    }\n",
              "\n",
              "    .dataframe tbody tr th {\n",
              "        vertical-align: top;\n",
              "    }\n",
              "\n",
              "    .dataframe thead th {\n",
              "        text-align: right;\n",
              "    }\n",
              "</style>\n",
              "<table border=\"1\" class=\"dataframe\">\n",
              "  <thead>\n",
              "    <tr style=\"text-align: right;\">\n",
              "      <th></th>\n",
              "      <th>Airline</th>\n",
              "      <th>Source</th>\n",
              "      <th>Destination</th>\n",
              "      <th>Minutes</th>\n",
              "      <th>Total_Stops</th>\n",
              "      <th>Additional_Info</th>\n",
              "      <th>Price</th>\n",
              "      <th>Stop_1</th>\n",
              "      <th>Stop_2</th>\n",
              "      <th>Stop_3</th>\n",
              "      <th>Stop_4</th>\n",
              "      <th>Dep_Day</th>\n",
              "      <th>Dep_Month</th>\n",
              "      <th>Dep_Hour</th>\n",
              "    </tr>\n",
              "  </thead>\n",
              "  <tbody>\n",
              "    <tr>\n",
              "      <td>0</td>\n",
              "      <td>IndiGo</td>\n",
              "      <td>BLR</td>\n",
              "      <td>DEL</td>\n",
              "      <td>170</td>\n",
              "      <td>0</td>\n",
              "      <td>NaN</td>\n",
              "      <td>3897</td>\n",
              "      <td>NaN</td>\n",
              "      <td>NaN</td>\n",
              "      <td>NaN</td>\n",
              "      <td>NaN</td>\n",
              "      <td>6</td>\n",
              "      <td>3</td>\n",
              "      <td>22</td>\n",
              "    </tr>\n",
              "    <tr>\n",
              "      <td>1</td>\n",
              "      <td>Air India</td>\n",
              "      <td>CCU</td>\n",
              "      <td>BLR</td>\n",
              "      <td>445</td>\n",
              "      <td>2</td>\n",
              "      <td>NaN</td>\n",
              "      <td>7662</td>\n",
              "      <td>IXR</td>\n",
              "      <td>BBI</td>\n",
              "      <td>NaN</td>\n",
              "      <td>NaN</td>\n",
              "      <td>5</td>\n",
              "      <td>1</td>\n",
              "      <td>5</td>\n",
              "    </tr>\n",
              "    <tr>\n",
              "      <td>2</td>\n",
              "      <td>Jet Airways</td>\n",
              "      <td>DEL</td>\n",
              "      <td>COK</td>\n",
              "      <td>1140</td>\n",
              "      <td>2</td>\n",
              "      <td>NaN</td>\n",
              "      <td>13882</td>\n",
              "      <td>LKO</td>\n",
              "      <td>BOM</td>\n",
              "      <td>NaN</td>\n",
              "      <td>NaN</td>\n",
              "      <td>4</td>\n",
              "      <td>9</td>\n",
              "      <td>9</td>\n",
              "    </tr>\n",
              "    <tr>\n",
              "      <td>3</td>\n",
              "      <td>IndiGo</td>\n",
              "      <td>CCU</td>\n",
              "      <td>BLR</td>\n",
              "      <td>325</td>\n",
              "      <td>1</td>\n",
              "      <td>NaN</td>\n",
              "      <td>6218</td>\n",
              "      <td>NAG</td>\n",
              "      <td>NaN</td>\n",
              "      <td>NaN</td>\n",
              "      <td>NaN</td>\n",
              "      <td>3</td>\n",
              "      <td>12</td>\n",
              "      <td>18</td>\n",
              "    </tr>\n",
              "    <tr>\n",
              "      <td>4</td>\n",
              "      <td>IndiGo</td>\n",
              "      <td>BLR</td>\n",
              "      <td>DEL</td>\n",
              "      <td>285</td>\n",
              "      <td>1</td>\n",
              "      <td>NaN</td>\n",
              "      <td>13302</td>\n",
              "      <td>NAG</td>\n",
              "      <td>NaN</td>\n",
              "      <td>NaN</td>\n",
              "      <td>NaN</td>\n",
              "      <td>3</td>\n",
              "      <td>1</td>\n",
              "      <td>16</td>\n",
              "    </tr>\n",
              "  </tbody>\n",
              "</table>\n",
              "</div>"
            ],
            "text/plain": [
              "       Airline Source Destination  Minutes  Total_Stops Additional_Info  \\\n",
              "0       IndiGo    BLR         DEL      170            0             NaN   \n",
              "1    Air India    CCU         BLR      445            2             NaN   \n",
              "2  Jet Airways    DEL         COK     1140            2             NaN   \n",
              "3       IndiGo    CCU         BLR      325            1             NaN   \n",
              "4       IndiGo    BLR         DEL      285            1             NaN   \n",
              "\n",
              "   Price Stop_1 Stop_2 Stop_3 Stop_4  Dep_Day  Dep_Month  Dep_Hour  \n",
              "0   3897    NaN    NaN    NaN    NaN        6          3        22  \n",
              "1   7662   IXR    BBI     NaN    NaN        5          1         5  \n",
              "2  13882   LKO    BOM     NaN    NaN        4          9         9  \n",
              "3   6218   NAG     NaN    NaN    NaN        3         12        18  \n",
              "4  13302   NAG     NaN    NaN    NaN        3          1        16  "
            ]
          },
          "metadata": {
            "tags": []
          },
          "execution_count": 226
        }
      ]
    },
    {
      "cell_type": "markdown",
      "metadata": {
        "id": "w29A0J8dZIG_",
        "colab_type": "text"
      },
      "source": [
        "## Very Important: Days/Weekday are NOT Categorical nor Numerical\n",
        "They are cyclic statistics"
      ]
    },
    {
      "cell_type": "code",
      "metadata": {
        "id": "MrhJzosxZIG_",
        "colab_type": "code",
        "colab": {},
        "outputId": "9d1f77e6-16e5-4b0a-e753-2086a479003d"
      },
      "source": [
        "temp_df[\"Dep_Day\"] = np.sin(2*np.pi*new_data[\"Dep_Time\"].dt.day.values/7)\n",
        "temp_df[\"Dep_Hour\"] = np.sin(2*np.pi*new_data[\"Dep_Time\"].dt.hour.values/24)\n",
        "temp_df[\"Dep_Month\"] = np.sin(2*np.pi*new_data[\"Dep_Time\"].dt.month.values/12)\n",
        "temp_df.head()"
      ],
      "execution_count": 0,
      "outputs": [
        {
          "output_type": "execute_result",
          "data": {
            "text/html": [
              "<div>\n",
              "<style scoped>\n",
              "    .dataframe tbody tr th:only-of-type {\n",
              "        vertical-align: middle;\n",
              "    }\n",
              "\n",
              "    .dataframe tbody tr th {\n",
              "        vertical-align: top;\n",
              "    }\n",
              "\n",
              "    .dataframe thead th {\n",
              "        text-align: right;\n",
              "    }\n",
              "</style>\n",
              "<table border=\"1\" class=\"dataframe\">\n",
              "  <thead>\n",
              "    <tr style=\"text-align: right;\">\n",
              "      <th></th>\n",
              "      <th>Airline</th>\n",
              "      <th>Source</th>\n",
              "      <th>Destination</th>\n",
              "      <th>Minutes</th>\n",
              "      <th>Total_Stops</th>\n",
              "      <th>Additional_Info</th>\n",
              "      <th>Price</th>\n",
              "      <th>Stop_1</th>\n",
              "      <th>Stop_2</th>\n",
              "      <th>Stop_3</th>\n",
              "      <th>Stop_4</th>\n",
              "      <th>Dep_Day</th>\n",
              "      <th>Dep_Month</th>\n",
              "      <th>Dep_Hour</th>\n",
              "    </tr>\n",
              "  </thead>\n",
              "  <tbody>\n",
              "    <tr>\n",
              "      <td>0</td>\n",
              "      <td>IndiGo</td>\n",
              "      <td>BLR</td>\n",
              "      <td>DEL</td>\n",
              "      <td>170</td>\n",
              "      <td>0</td>\n",
              "      <td>NaN</td>\n",
              "      <td>3897</td>\n",
              "      <td>NaN</td>\n",
              "      <td>NaN</td>\n",
              "      <td>NaN</td>\n",
              "      <td>NaN</td>\n",
              "      <td>0.433884</td>\n",
              "      <td>1.000000e+00</td>\n",
              "      <td>-0.500000</td>\n",
              "    </tr>\n",
              "    <tr>\n",
              "      <td>1</td>\n",
              "      <td>Air India</td>\n",
              "      <td>CCU</td>\n",
              "      <td>BLR</td>\n",
              "      <td>445</td>\n",
              "      <td>2</td>\n",
              "      <td>NaN</td>\n",
              "      <td>7662</td>\n",
              "      <td>IXR</td>\n",
              "      <td>BBI</td>\n",
              "      <td>NaN</td>\n",
              "      <td>NaN</td>\n",
              "      <td>-0.974928</td>\n",
              "      <td>5.000000e-01</td>\n",
              "      <td>0.965926</td>\n",
              "    </tr>\n",
              "    <tr>\n",
              "      <td>2</td>\n",
              "      <td>Jet Airways</td>\n",
              "      <td>DEL</td>\n",
              "      <td>COK</td>\n",
              "      <td>1140</td>\n",
              "      <td>2</td>\n",
              "      <td>NaN</td>\n",
              "      <td>13882</td>\n",
              "      <td>LKO</td>\n",
              "      <td>BOM</td>\n",
              "      <td>NaN</td>\n",
              "      <td>NaN</td>\n",
              "      <td>-0.781831</td>\n",
              "      <td>-1.000000e+00</td>\n",
              "      <td>0.707107</td>\n",
              "    </tr>\n",
              "    <tr>\n",
              "      <td>3</td>\n",
              "      <td>IndiGo</td>\n",
              "      <td>CCU</td>\n",
              "      <td>BLR</td>\n",
              "      <td>325</td>\n",
              "      <td>1</td>\n",
              "      <td>NaN</td>\n",
              "      <td>6218</td>\n",
              "      <td>NAG</td>\n",
              "      <td>NaN</td>\n",
              "      <td>NaN</td>\n",
              "      <td>NaN</td>\n",
              "      <td>-0.974928</td>\n",
              "      <td>-2.449294e-16</td>\n",
              "      <td>-1.000000</td>\n",
              "    </tr>\n",
              "    <tr>\n",
              "      <td>4</td>\n",
              "      <td>IndiGo</td>\n",
              "      <td>BLR</td>\n",
              "      <td>DEL</td>\n",
              "      <td>285</td>\n",
              "      <td>1</td>\n",
              "      <td>NaN</td>\n",
              "      <td>13302</td>\n",
              "      <td>NAG</td>\n",
              "      <td>NaN</td>\n",
              "      <td>NaN</td>\n",
              "      <td>NaN</td>\n",
              "      <td>0.433884</td>\n",
              "      <td>5.000000e-01</td>\n",
              "      <td>-0.866025</td>\n",
              "    </tr>\n",
              "  </tbody>\n",
              "</table>\n",
              "</div>"
            ],
            "text/plain": [
              "       Airline Source Destination  Minutes  Total_Stops Additional_Info  \\\n",
              "0       IndiGo    BLR         DEL      170            0             NaN   \n",
              "1    Air India    CCU         BLR      445            2             NaN   \n",
              "2  Jet Airways    DEL         COK     1140            2             NaN   \n",
              "3       IndiGo    CCU         BLR      325            1             NaN   \n",
              "4       IndiGo    BLR         DEL      285            1             NaN   \n",
              "\n",
              "   Price Stop_1 Stop_2 Stop_3 Stop_4   Dep_Day     Dep_Month  Dep_Hour  \n",
              "0   3897    NaN    NaN    NaN    NaN  0.433884  1.000000e+00 -0.500000  \n",
              "1   7662   IXR    BBI     NaN    NaN -0.974928  5.000000e-01  0.965926  \n",
              "2  13882   LKO    BOM     NaN    NaN -0.781831 -1.000000e+00  0.707107  \n",
              "3   6218   NAG     NaN    NaN    NaN -0.974928 -2.449294e-16 -1.000000  \n",
              "4  13302   NAG     NaN    NaN    NaN  0.433884  5.000000e-01 -0.866025  "
            ]
          },
          "metadata": {
            "tags": []
          },
          "execution_count": 227
        }
      ]
    },
    {
      "cell_type": "code",
      "metadata": {
        "id": "9wb9-vxpZIHB",
        "colab_type": "code",
        "colab": {}
      },
      "source": [
        "temp_df.rename({'Dep_Day':'Dep_Day_sine', 'Dep_Hour': 'Dep_Hour_sine', 'Dep_Month': 'Dep_Month_sine'},\n",
        "               axis = 'columns', inplace = True)"
      ],
      "execution_count": 0,
      "outputs": []
    },
    {
      "cell_type": "code",
      "metadata": {
        "id": "keDuxIofZIHD",
        "colab_type": "code",
        "colab": {},
        "outputId": "115cb337-eb32-4e42-f3f9-15a8b6829a64"
      },
      "source": [
        "temp_df.head()"
      ],
      "execution_count": 0,
      "outputs": [
        {
          "output_type": "execute_result",
          "data": {
            "text/html": [
              "<div>\n",
              "<style scoped>\n",
              "    .dataframe tbody tr th:only-of-type {\n",
              "        vertical-align: middle;\n",
              "    }\n",
              "\n",
              "    .dataframe tbody tr th {\n",
              "        vertical-align: top;\n",
              "    }\n",
              "\n",
              "    .dataframe thead th {\n",
              "        text-align: right;\n",
              "    }\n",
              "</style>\n",
              "<table border=\"1\" class=\"dataframe\">\n",
              "  <thead>\n",
              "    <tr style=\"text-align: right;\">\n",
              "      <th></th>\n",
              "      <th>Airline</th>\n",
              "      <th>Source</th>\n",
              "      <th>Destination</th>\n",
              "      <th>Minutes</th>\n",
              "      <th>Total_Stops</th>\n",
              "      <th>Additional_Info</th>\n",
              "      <th>Price</th>\n",
              "      <th>Stop_1</th>\n",
              "      <th>Stop_2</th>\n",
              "      <th>Stop_3</th>\n",
              "      <th>Stop_4</th>\n",
              "      <th>Dep_Day_sine</th>\n",
              "      <th>Dep_Month_sine</th>\n",
              "      <th>Dep_Hour_sine</th>\n",
              "    </tr>\n",
              "  </thead>\n",
              "  <tbody>\n",
              "    <tr>\n",
              "      <td>0</td>\n",
              "      <td>IndiGo</td>\n",
              "      <td>BLR</td>\n",
              "      <td>DEL</td>\n",
              "      <td>170</td>\n",
              "      <td>0</td>\n",
              "      <td>NaN</td>\n",
              "      <td>3897</td>\n",
              "      <td>NaN</td>\n",
              "      <td>NaN</td>\n",
              "      <td>NaN</td>\n",
              "      <td>NaN</td>\n",
              "      <td>0.433884</td>\n",
              "      <td>1.000000e+00</td>\n",
              "      <td>-0.500000</td>\n",
              "    </tr>\n",
              "    <tr>\n",
              "      <td>1</td>\n",
              "      <td>Air India</td>\n",
              "      <td>CCU</td>\n",
              "      <td>BLR</td>\n",
              "      <td>445</td>\n",
              "      <td>2</td>\n",
              "      <td>NaN</td>\n",
              "      <td>7662</td>\n",
              "      <td>IXR</td>\n",
              "      <td>BBI</td>\n",
              "      <td>NaN</td>\n",
              "      <td>NaN</td>\n",
              "      <td>-0.974928</td>\n",
              "      <td>5.000000e-01</td>\n",
              "      <td>0.965926</td>\n",
              "    </tr>\n",
              "    <tr>\n",
              "      <td>2</td>\n",
              "      <td>Jet Airways</td>\n",
              "      <td>DEL</td>\n",
              "      <td>COK</td>\n",
              "      <td>1140</td>\n",
              "      <td>2</td>\n",
              "      <td>NaN</td>\n",
              "      <td>13882</td>\n",
              "      <td>LKO</td>\n",
              "      <td>BOM</td>\n",
              "      <td>NaN</td>\n",
              "      <td>NaN</td>\n",
              "      <td>-0.781831</td>\n",
              "      <td>-1.000000e+00</td>\n",
              "      <td>0.707107</td>\n",
              "    </tr>\n",
              "    <tr>\n",
              "      <td>3</td>\n",
              "      <td>IndiGo</td>\n",
              "      <td>CCU</td>\n",
              "      <td>BLR</td>\n",
              "      <td>325</td>\n",
              "      <td>1</td>\n",
              "      <td>NaN</td>\n",
              "      <td>6218</td>\n",
              "      <td>NAG</td>\n",
              "      <td>NaN</td>\n",
              "      <td>NaN</td>\n",
              "      <td>NaN</td>\n",
              "      <td>-0.974928</td>\n",
              "      <td>-2.449294e-16</td>\n",
              "      <td>-1.000000</td>\n",
              "    </tr>\n",
              "    <tr>\n",
              "      <td>4</td>\n",
              "      <td>IndiGo</td>\n",
              "      <td>BLR</td>\n",
              "      <td>DEL</td>\n",
              "      <td>285</td>\n",
              "      <td>1</td>\n",
              "      <td>NaN</td>\n",
              "      <td>13302</td>\n",
              "      <td>NAG</td>\n",
              "      <td>NaN</td>\n",
              "      <td>NaN</td>\n",
              "      <td>NaN</td>\n",
              "      <td>0.433884</td>\n",
              "      <td>5.000000e-01</td>\n",
              "      <td>-0.866025</td>\n",
              "    </tr>\n",
              "  </tbody>\n",
              "</table>\n",
              "</div>"
            ],
            "text/plain": [
              "       Airline Source Destination  Minutes  Total_Stops Additional_Info  \\\n",
              "0       IndiGo    BLR         DEL      170            0             NaN   \n",
              "1    Air India    CCU         BLR      445            2             NaN   \n",
              "2  Jet Airways    DEL         COK     1140            2             NaN   \n",
              "3       IndiGo    CCU         BLR      325            1             NaN   \n",
              "4       IndiGo    BLR         DEL      285            1             NaN   \n",
              "\n",
              "   Price Stop_1 Stop_2 Stop_3 Stop_4  Dep_Day_sine  Dep_Month_sine  \\\n",
              "0   3897    NaN    NaN    NaN    NaN      0.433884    1.000000e+00   \n",
              "1   7662   IXR    BBI     NaN    NaN     -0.974928    5.000000e-01   \n",
              "2  13882   LKO    BOM     NaN    NaN     -0.781831   -1.000000e+00   \n",
              "3   6218   NAG     NaN    NaN    NaN     -0.974928   -2.449294e-16   \n",
              "4  13302   NAG     NaN    NaN    NaN      0.433884    5.000000e-01   \n",
              "\n",
              "   Dep_Hour_sine  \n",
              "0      -0.500000  \n",
              "1       0.965926  \n",
              "2       0.707107  \n",
              "3      -1.000000  \n",
              "4      -0.866025  "
            ]
          },
          "metadata": {
            "tags": []
          },
          "execution_count": 229
        }
      ]
    },
    {
      "cell_type": "markdown",
      "metadata": {
        "id": "DQARXrNNZIHF",
        "colab_type": "text"
      },
      "source": [
        "# Model Building (The Meat of the Problem)"
      ]
    },
    {
      "cell_type": "markdown",
      "metadata": {
        "id": "m7WGrPCyZIHG",
        "colab_type": "text"
      },
      "source": [
        "### One- Hot Encoding"
      ]
    },
    {
      "cell_type": "code",
      "metadata": {
        "id": "Ntgub0PFZIHG",
        "colab_type": "code",
        "colab": {}
      },
      "source": [
        "from sklearn.preprocessing import OneHotEncoder"
      ],
      "execution_count": 0,
      "outputs": []
    },
    {
      "cell_type": "code",
      "metadata": {
        "id": "nkK86p6pZIHP",
        "colab_type": "code",
        "colab": {}
      },
      "source": [
        "categorical_features = ['Airline', 'Source', 'Destination','Additional_Info', 'Stop_1', \n",
        "                                            'Stop_2', 'Stop_3', 'Stop_4']"
      ],
      "execution_count": 0,
      "outputs": []
    },
    {
      "cell_type": "code",
      "metadata": {
        "id": "N2ixt8srZIHR",
        "colab_type": "code",
        "colab": {},
        "outputId": "f24f47e2-ea02-49d5-cc1b-94ba7160ca7d"
      },
      "source": [
        "temp_df.head()"
      ],
      "execution_count": 0,
      "outputs": [
        {
          "output_type": "execute_result",
          "data": {
            "text/html": [
              "<div>\n",
              "<style scoped>\n",
              "    .dataframe tbody tr th:only-of-type {\n",
              "        vertical-align: middle;\n",
              "    }\n",
              "\n",
              "    .dataframe tbody tr th {\n",
              "        vertical-align: top;\n",
              "    }\n",
              "\n",
              "    .dataframe thead th {\n",
              "        text-align: right;\n",
              "    }\n",
              "</style>\n",
              "<table border=\"1\" class=\"dataframe\">\n",
              "  <thead>\n",
              "    <tr style=\"text-align: right;\">\n",
              "      <th></th>\n",
              "      <th>Airline</th>\n",
              "      <th>Source</th>\n",
              "      <th>Destination</th>\n",
              "      <th>Minutes</th>\n",
              "      <th>Total_Stops</th>\n",
              "      <th>Additional_Info</th>\n",
              "      <th>Price</th>\n",
              "      <th>Stop_1</th>\n",
              "      <th>Stop_2</th>\n",
              "      <th>Stop_3</th>\n",
              "      <th>Stop_4</th>\n",
              "      <th>Dep_Day_sine</th>\n",
              "      <th>Dep_Month_sine</th>\n",
              "      <th>Dep_Hour_sine</th>\n",
              "    </tr>\n",
              "  </thead>\n",
              "  <tbody>\n",
              "    <tr>\n",
              "      <td>0</td>\n",
              "      <td>IndiGo</td>\n",
              "      <td>BLR</td>\n",
              "      <td>DEL</td>\n",
              "      <td>170</td>\n",
              "      <td>0</td>\n",
              "      <td>NaN</td>\n",
              "      <td>3897</td>\n",
              "      <td>NaN</td>\n",
              "      <td>NaN</td>\n",
              "      <td>NaN</td>\n",
              "      <td>NaN</td>\n",
              "      <td>0.433884</td>\n",
              "      <td>1.000000e+00</td>\n",
              "      <td>-0.500000</td>\n",
              "    </tr>\n",
              "    <tr>\n",
              "      <td>1</td>\n",
              "      <td>Air India</td>\n",
              "      <td>CCU</td>\n",
              "      <td>BLR</td>\n",
              "      <td>445</td>\n",
              "      <td>2</td>\n",
              "      <td>NaN</td>\n",
              "      <td>7662</td>\n",
              "      <td>IXR</td>\n",
              "      <td>BBI</td>\n",
              "      <td>NaN</td>\n",
              "      <td>NaN</td>\n",
              "      <td>-0.974928</td>\n",
              "      <td>5.000000e-01</td>\n",
              "      <td>0.965926</td>\n",
              "    </tr>\n",
              "    <tr>\n",
              "      <td>2</td>\n",
              "      <td>Jet Airways</td>\n",
              "      <td>DEL</td>\n",
              "      <td>COK</td>\n",
              "      <td>1140</td>\n",
              "      <td>2</td>\n",
              "      <td>NaN</td>\n",
              "      <td>13882</td>\n",
              "      <td>LKO</td>\n",
              "      <td>BOM</td>\n",
              "      <td>NaN</td>\n",
              "      <td>NaN</td>\n",
              "      <td>-0.781831</td>\n",
              "      <td>-1.000000e+00</td>\n",
              "      <td>0.707107</td>\n",
              "    </tr>\n",
              "    <tr>\n",
              "      <td>3</td>\n",
              "      <td>IndiGo</td>\n",
              "      <td>CCU</td>\n",
              "      <td>BLR</td>\n",
              "      <td>325</td>\n",
              "      <td>1</td>\n",
              "      <td>NaN</td>\n",
              "      <td>6218</td>\n",
              "      <td>NAG</td>\n",
              "      <td>NaN</td>\n",
              "      <td>NaN</td>\n",
              "      <td>NaN</td>\n",
              "      <td>-0.974928</td>\n",
              "      <td>-2.449294e-16</td>\n",
              "      <td>-1.000000</td>\n",
              "    </tr>\n",
              "    <tr>\n",
              "      <td>4</td>\n",
              "      <td>IndiGo</td>\n",
              "      <td>BLR</td>\n",
              "      <td>DEL</td>\n",
              "      <td>285</td>\n",
              "      <td>1</td>\n",
              "      <td>NaN</td>\n",
              "      <td>13302</td>\n",
              "      <td>NAG</td>\n",
              "      <td>NaN</td>\n",
              "      <td>NaN</td>\n",
              "      <td>NaN</td>\n",
              "      <td>0.433884</td>\n",
              "      <td>5.000000e-01</td>\n",
              "      <td>-0.866025</td>\n",
              "    </tr>\n",
              "  </tbody>\n",
              "</table>\n",
              "</div>"
            ],
            "text/plain": [
              "       Airline Source Destination  Minutes  Total_Stops Additional_Info  \\\n",
              "0       IndiGo    BLR         DEL      170            0             NaN   \n",
              "1    Air India    CCU         BLR      445            2             NaN   \n",
              "2  Jet Airways    DEL         COK     1140            2             NaN   \n",
              "3       IndiGo    CCU         BLR      325            1             NaN   \n",
              "4       IndiGo    BLR         DEL      285            1             NaN   \n",
              "\n",
              "   Price Stop_1 Stop_2 Stop_3 Stop_4  Dep_Day_sine  Dep_Month_sine  \\\n",
              "0   3897    NaN    NaN    NaN    NaN      0.433884    1.000000e+00   \n",
              "1   7662   IXR    BBI     NaN    NaN     -0.974928    5.000000e-01   \n",
              "2  13882   LKO    BOM     NaN    NaN     -0.781831   -1.000000e+00   \n",
              "3   6218   NAG     NaN    NaN    NaN     -0.974928   -2.449294e-16   \n",
              "4  13302   NAG     NaN    NaN    NaN      0.433884    5.000000e-01   \n",
              "\n",
              "   Dep_Hour_sine  \n",
              "0      -0.500000  \n",
              "1       0.965926  \n",
              "2       0.707107  \n",
              "3      -1.000000  \n",
              "4      -0.866025  "
            ]
          },
          "metadata": {
            "tags": []
          },
          "execution_count": 232
        }
      ]
    },
    {
      "cell_type": "code",
      "metadata": {
        "id": "6rh1n0S1ZIHT",
        "colab_type": "code",
        "colab": {}
      },
      "source": [
        "one_hot = pd.get_dummies(temp_df[categorical_features])"
      ],
      "execution_count": 0,
      "outputs": []
    },
    {
      "cell_type": "code",
      "metadata": {
        "id": "nG9m55lXZIHV",
        "colab_type": "code",
        "colab": {},
        "outputId": "ed8e7225-b06d-4034-cf32-3f008b0f51fe"
      },
      "source": [
        "one_hot.head()"
      ],
      "execution_count": 0,
      "outputs": [
        {
          "output_type": "execute_result",
          "data": {
            "text/html": [
              "<div>\n",
              "<style scoped>\n",
              "    .dataframe tbody tr th:only-of-type {\n",
              "        vertical-align: middle;\n",
              "    }\n",
              "\n",
              "    .dataframe tbody tr th {\n",
              "        vertical-align: top;\n",
              "    }\n",
              "\n",
              "    .dataframe thead th {\n",
              "        text-align: right;\n",
              "    }\n",
              "</style>\n",
              "<table border=\"1\" class=\"dataframe\">\n",
              "  <thead>\n",
              "    <tr style=\"text-align: right;\">\n",
              "      <th></th>\n",
              "      <th>Airline_Air Asia</th>\n",
              "      <th>Airline_Air India</th>\n",
              "      <th>Airline_GoAir</th>\n",
              "      <th>Airline_IndiGo</th>\n",
              "      <th>Airline_Jet Airways</th>\n",
              "      <th>Airline_Jet Airways Business</th>\n",
              "      <th>Airline_Multiple carriers</th>\n",
              "      <th>Airline_Multiple carriers Premium economy</th>\n",
              "      <th>Airline_SpiceJet</th>\n",
              "      <th>Airline_Trujet</th>\n",
              "      <th>...</th>\n",
              "      <th>Stop_3_ AMD</th>\n",
              "      <th>Stop_3_ BBI</th>\n",
              "      <th>Stop_3_ BHO</th>\n",
              "      <th>Stop_3_ BOM</th>\n",
              "      <th>Stop_3_ DEL</th>\n",
              "      <th>Stop_3_ GWL</th>\n",
              "      <th>Stop_3_ HYD</th>\n",
              "      <th>Stop_3_ NAG</th>\n",
              "      <th>Stop_3_ TRV</th>\n",
              "      <th>Stop_4_ VGA</th>\n",
              "    </tr>\n",
              "  </thead>\n",
              "  <tbody>\n",
              "    <tr>\n",
              "      <td>0</td>\n",
              "      <td>0</td>\n",
              "      <td>0</td>\n",
              "      <td>0</td>\n",
              "      <td>1</td>\n",
              "      <td>0</td>\n",
              "      <td>0</td>\n",
              "      <td>0</td>\n",
              "      <td>0</td>\n",
              "      <td>0</td>\n",
              "      <td>0</td>\n",
              "      <td>...</td>\n",
              "      <td>0</td>\n",
              "      <td>0</td>\n",
              "      <td>0</td>\n",
              "      <td>0</td>\n",
              "      <td>0</td>\n",
              "      <td>0</td>\n",
              "      <td>0</td>\n",
              "      <td>0</td>\n",
              "      <td>0</td>\n",
              "      <td>0</td>\n",
              "    </tr>\n",
              "    <tr>\n",
              "      <td>1</td>\n",
              "      <td>0</td>\n",
              "      <td>1</td>\n",
              "      <td>0</td>\n",
              "      <td>0</td>\n",
              "      <td>0</td>\n",
              "      <td>0</td>\n",
              "      <td>0</td>\n",
              "      <td>0</td>\n",
              "      <td>0</td>\n",
              "      <td>0</td>\n",
              "      <td>...</td>\n",
              "      <td>0</td>\n",
              "      <td>0</td>\n",
              "      <td>0</td>\n",
              "      <td>0</td>\n",
              "      <td>0</td>\n",
              "      <td>0</td>\n",
              "      <td>0</td>\n",
              "      <td>0</td>\n",
              "      <td>0</td>\n",
              "      <td>0</td>\n",
              "    </tr>\n",
              "    <tr>\n",
              "      <td>2</td>\n",
              "      <td>0</td>\n",
              "      <td>0</td>\n",
              "      <td>0</td>\n",
              "      <td>0</td>\n",
              "      <td>1</td>\n",
              "      <td>0</td>\n",
              "      <td>0</td>\n",
              "      <td>0</td>\n",
              "      <td>0</td>\n",
              "      <td>0</td>\n",
              "      <td>...</td>\n",
              "      <td>0</td>\n",
              "      <td>0</td>\n",
              "      <td>0</td>\n",
              "      <td>0</td>\n",
              "      <td>0</td>\n",
              "      <td>0</td>\n",
              "      <td>0</td>\n",
              "      <td>0</td>\n",
              "      <td>0</td>\n",
              "      <td>0</td>\n",
              "    </tr>\n",
              "    <tr>\n",
              "      <td>3</td>\n",
              "      <td>0</td>\n",
              "      <td>0</td>\n",
              "      <td>0</td>\n",
              "      <td>1</td>\n",
              "      <td>0</td>\n",
              "      <td>0</td>\n",
              "      <td>0</td>\n",
              "      <td>0</td>\n",
              "      <td>0</td>\n",
              "      <td>0</td>\n",
              "      <td>...</td>\n",
              "      <td>0</td>\n",
              "      <td>0</td>\n",
              "      <td>0</td>\n",
              "      <td>0</td>\n",
              "      <td>0</td>\n",
              "      <td>0</td>\n",
              "      <td>0</td>\n",
              "      <td>0</td>\n",
              "      <td>0</td>\n",
              "      <td>0</td>\n",
              "    </tr>\n",
              "    <tr>\n",
              "      <td>4</td>\n",
              "      <td>0</td>\n",
              "      <td>0</td>\n",
              "      <td>0</td>\n",
              "      <td>1</td>\n",
              "      <td>0</td>\n",
              "      <td>0</td>\n",
              "      <td>0</td>\n",
              "      <td>0</td>\n",
              "      <td>0</td>\n",
              "      <td>0</td>\n",
              "      <td>...</td>\n",
              "      <td>0</td>\n",
              "      <td>0</td>\n",
              "      <td>0</td>\n",
              "      <td>0</td>\n",
              "      <td>0</td>\n",
              "      <td>0</td>\n",
              "      <td>0</td>\n",
              "      <td>0</td>\n",
              "      <td>0</td>\n",
              "      <td>0</td>\n",
              "    </tr>\n",
              "  </tbody>\n",
              "</table>\n",
              "<p>5 rows × 105 columns</p>\n",
              "</div>"
            ],
            "text/plain": [
              "   Airline_Air Asia  Airline_Air India  Airline_GoAir  Airline_IndiGo  \\\n",
              "0                 0                  0              0               1   \n",
              "1                 0                  1              0               0   \n",
              "2                 0                  0              0               0   \n",
              "3                 0                  0              0               1   \n",
              "4                 0                  0              0               1   \n",
              "\n",
              "   Airline_Jet Airways  Airline_Jet Airways Business  \\\n",
              "0                    0                             0   \n",
              "1                    0                             0   \n",
              "2                    1                             0   \n",
              "3                    0                             0   \n",
              "4                    0                             0   \n",
              "\n",
              "   Airline_Multiple carriers  Airline_Multiple carriers Premium economy  \\\n",
              "0                          0                                          0   \n",
              "1                          0                                          0   \n",
              "2                          0                                          0   \n",
              "3                          0                                          0   \n",
              "4                          0                                          0   \n",
              "\n",
              "   Airline_SpiceJet  Airline_Trujet  ...  Stop_3_ AMD   Stop_3_ BBI   \\\n",
              "0                 0               0  ...             0             0   \n",
              "1                 0               0  ...             0             0   \n",
              "2                 0               0  ...             0             0   \n",
              "3                 0               0  ...             0             0   \n",
              "4                 0               0  ...             0             0   \n",
              "\n",
              "   Stop_3_ BHO   Stop_3_ BOM   Stop_3_ DEL   Stop_3_ GWL   Stop_3_ HYD   \\\n",
              "0             0             0             0             0             0   \n",
              "1             0             0             0             0             0   \n",
              "2             0             0             0             0             0   \n",
              "3             0             0             0             0             0   \n",
              "4             0             0             0             0             0   \n",
              "\n",
              "   Stop_3_ NAG   Stop_3_ TRV   Stop_4_ VGA   \n",
              "0             0             0             0  \n",
              "1             0             0             0  \n",
              "2             0             0             0  \n",
              "3             0             0             0  \n",
              "4             0             0             0  \n",
              "\n",
              "[5 rows x 105 columns]"
            ]
          },
          "metadata": {
            "tags": []
          },
          "execution_count": 234
        }
      ]
    },
    {
      "cell_type": "code",
      "metadata": {
        "id": "8vpKqjGGZIHX",
        "colab_type": "code",
        "colab": {},
        "outputId": "460ab768-7ab0-499e-d9a2-00c9bc70ec91"
      },
      "source": [
        "one_hot.shape"
      ],
      "execution_count": 0,
      "outputs": [
        {
          "output_type": "execute_result",
          "data": {
            "text/plain": [
              "(10683, 105)"
            ]
          },
          "metadata": {
            "tags": []
          },
          "execution_count": 235
        }
      ]
    },
    {
      "cell_type": "code",
      "metadata": {
        "id": "UXq2loa7ZIHZ",
        "colab_type": "code",
        "colab": {}
      },
      "source": [
        "one_hot_df = pd.concat([temp_df, one_hot], axis = 1)"
      ],
      "execution_count": 0,
      "outputs": []
    },
    {
      "cell_type": "code",
      "metadata": {
        "id": "vUAW5dXcZIHb",
        "colab_type": "code",
        "colab": {}
      },
      "source": [
        "one_hot_df.drop(labels = categorical_features, axis = 'columns', inplace = True)"
      ],
      "execution_count": 0,
      "outputs": []
    },
    {
      "cell_type": "code",
      "metadata": {
        "id": "SpfkfozzZIHd",
        "colab_type": "code",
        "colab": {},
        "outputId": "6b32bbb0-b8a7-4ff1-f581-9b6e6d6a3344"
      },
      "source": [
        "one_hot_df.head()"
      ],
      "execution_count": 0,
      "outputs": [
        {
          "output_type": "execute_result",
          "data": {
            "text/html": [
              "<div>\n",
              "<style scoped>\n",
              "    .dataframe tbody tr th:only-of-type {\n",
              "        vertical-align: middle;\n",
              "    }\n",
              "\n",
              "    .dataframe tbody tr th {\n",
              "        vertical-align: top;\n",
              "    }\n",
              "\n",
              "    .dataframe thead th {\n",
              "        text-align: right;\n",
              "    }\n",
              "</style>\n",
              "<table border=\"1\" class=\"dataframe\">\n",
              "  <thead>\n",
              "    <tr style=\"text-align: right;\">\n",
              "      <th></th>\n",
              "      <th>Minutes</th>\n",
              "      <th>Total_Stops</th>\n",
              "      <th>Price</th>\n",
              "      <th>Dep_Day_sine</th>\n",
              "      <th>Dep_Month_sine</th>\n",
              "      <th>Dep_Hour_sine</th>\n",
              "      <th>Airline_Air Asia</th>\n",
              "      <th>Airline_Air India</th>\n",
              "      <th>Airline_GoAir</th>\n",
              "      <th>Airline_IndiGo</th>\n",
              "      <th>...</th>\n",
              "      <th>Stop_3_ AMD</th>\n",
              "      <th>Stop_3_ BBI</th>\n",
              "      <th>Stop_3_ BHO</th>\n",
              "      <th>Stop_3_ BOM</th>\n",
              "      <th>Stop_3_ DEL</th>\n",
              "      <th>Stop_3_ GWL</th>\n",
              "      <th>Stop_3_ HYD</th>\n",
              "      <th>Stop_3_ NAG</th>\n",
              "      <th>Stop_3_ TRV</th>\n",
              "      <th>Stop_4_ VGA</th>\n",
              "    </tr>\n",
              "  </thead>\n",
              "  <tbody>\n",
              "    <tr>\n",
              "      <td>0</td>\n",
              "      <td>170</td>\n",
              "      <td>0</td>\n",
              "      <td>3897</td>\n",
              "      <td>0.433884</td>\n",
              "      <td>1.000000e+00</td>\n",
              "      <td>-0.500000</td>\n",
              "      <td>0</td>\n",
              "      <td>0</td>\n",
              "      <td>0</td>\n",
              "      <td>1</td>\n",
              "      <td>...</td>\n",
              "      <td>0</td>\n",
              "      <td>0</td>\n",
              "      <td>0</td>\n",
              "      <td>0</td>\n",
              "      <td>0</td>\n",
              "      <td>0</td>\n",
              "      <td>0</td>\n",
              "      <td>0</td>\n",
              "      <td>0</td>\n",
              "      <td>0</td>\n",
              "    </tr>\n",
              "    <tr>\n",
              "      <td>1</td>\n",
              "      <td>445</td>\n",
              "      <td>2</td>\n",
              "      <td>7662</td>\n",
              "      <td>-0.974928</td>\n",
              "      <td>5.000000e-01</td>\n",
              "      <td>0.965926</td>\n",
              "      <td>0</td>\n",
              "      <td>1</td>\n",
              "      <td>0</td>\n",
              "      <td>0</td>\n",
              "      <td>...</td>\n",
              "      <td>0</td>\n",
              "      <td>0</td>\n",
              "      <td>0</td>\n",
              "      <td>0</td>\n",
              "      <td>0</td>\n",
              "      <td>0</td>\n",
              "      <td>0</td>\n",
              "      <td>0</td>\n",
              "      <td>0</td>\n",
              "      <td>0</td>\n",
              "    </tr>\n",
              "    <tr>\n",
              "      <td>2</td>\n",
              "      <td>1140</td>\n",
              "      <td>2</td>\n",
              "      <td>13882</td>\n",
              "      <td>-0.781831</td>\n",
              "      <td>-1.000000e+00</td>\n",
              "      <td>0.707107</td>\n",
              "      <td>0</td>\n",
              "      <td>0</td>\n",
              "      <td>0</td>\n",
              "      <td>0</td>\n",
              "      <td>...</td>\n",
              "      <td>0</td>\n",
              "      <td>0</td>\n",
              "      <td>0</td>\n",
              "      <td>0</td>\n",
              "      <td>0</td>\n",
              "      <td>0</td>\n",
              "      <td>0</td>\n",
              "      <td>0</td>\n",
              "      <td>0</td>\n",
              "      <td>0</td>\n",
              "    </tr>\n",
              "    <tr>\n",
              "      <td>3</td>\n",
              "      <td>325</td>\n",
              "      <td>1</td>\n",
              "      <td>6218</td>\n",
              "      <td>-0.974928</td>\n",
              "      <td>-2.449294e-16</td>\n",
              "      <td>-1.000000</td>\n",
              "      <td>0</td>\n",
              "      <td>0</td>\n",
              "      <td>0</td>\n",
              "      <td>1</td>\n",
              "      <td>...</td>\n",
              "      <td>0</td>\n",
              "      <td>0</td>\n",
              "      <td>0</td>\n",
              "      <td>0</td>\n",
              "      <td>0</td>\n",
              "      <td>0</td>\n",
              "      <td>0</td>\n",
              "      <td>0</td>\n",
              "      <td>0</td>\n",
              "      <td>0</td>\n",
              "    </tr>\n",
              "    <tr>\n",
              "      <td>4</td>\n",
              "      <td>285</td>\n",
              "      <td>1</td>\n",
              "      <td>13302</td>\n",
              "      <td>0.433884</td>\n",
              "      <td>5.000000e-01</td>\n",
              "      <td>-0.866025</td>\n",
              "      <td>0</td>\n",
              "      <td>0</td>\n",
              "      <td>0</td>\n",
              "      <td>1</td>\n",
              "      <td>...</td>\n",
              "      <td>0</td>\n",
              "      <td>0</td>\n",
              "      <td>0</td>\n",
              "      <td>0</td>\n",
              "      <td>0</td>\n",
              "      <td>0</td>\n",
              "      <td>0</td>\n",
              "      <td>0</td>\n",
              "      <td>0</td>\n",
              "      <td>0</td>\n",
              "    </tr>\n",
              "  </tbody>\n",
              "</table>\n",
              "<p>5 rows × 111 columns</p>\n",
              "</div>"
            ],
            "text/plain": [
              "   Minutes  Total_Stops  Price  Dep_Day_sine  Dep_Month_sine  Dep_Hour_sine  \\\n",
              "0      170            0   3897      0.433884    1.000000e+00      -0.500000   \n",
              "1      445            2   7662     -0.974928    5.000000e-01       0.965926   \n",
              "2     1140            2  13882     -0.781831   -1.000000e+00       0.707107   \n",
              "3      325            1   6218     -0.974928   -2.449294e-16      -1.000000   \n",
              "4      285            1  13302      0.433884    5.000000e-01      -0.866025   \n",
              "\n",
              "   Airline_Air Asia  Airline_Air India  Airline_GoAir  Airline_IndiGo  ...  \\\n",
              "0                 0                  0              0               1  ...   \n",
              "1                 0                  1              0               0  ...   \n",
              "2                 0                  0              0               0  ...   \n",
              "3                 0                  0              0               1  ...   \n",
              "4                 0                  0              0               1  ...   \n",
              "\n",
              "   Stop_3_ AMD   Stop_3_ BBI   Stop_3_ BHO   Stop_3_ BOM   Stop_3_ DEL   \\\n",
              "0             0             0             0             0             0   \n",
              "1             0             0             0             0             0   \n",
              "2             0             0             0             0             0   \n",
              "3             0             0             0             0             0   \n",
              "4             0             0             0             0             0   \n",
              "\n",
              "   Stop_3_ GWL   Stop_3_ HYD   Stop_3_ NAG   Stop_3_ TRV   Stop_4_ VGA   \n",
              "0             0             0             0             0             0  \n",
              "1             0             0             0             0             0  \n",
              "2             0             0             0             0             0  \n",
              "3             0             0             0             0             0  \n",
              "4             0             0             0             0             0  \n",
              "\n",
              "[5 rows x 111 columns]"
            ]
          },
          "metadata": {
            "tags": []
          },
          "execution_count": 238
        }
      ]
    },
    {
      "cell_type": "markdown",
      "metadata": {
        "id": "w69r4p_rZIHf",
        "colab_type": "text"
      },
      "source": [
        "## Training and Validation Set"
      ]
    },
    {
      "cell_type": "code",
      "metadata": {
        "id": "MlwPmy0cZIHf",
        "colab_type": "code",
        "colab": {}
      },
      "source": [
        "y = one_hot_df[\"Price\"].values\n",
        "X = one_hot_df.drop(labels= ['Price'], axis = 'columns').values"
      ],
      "execution_count": 0,
      "outputs": []
    },
    {
      "cell_type": "code",
      "metadata": {
        "id": "QuYNaFVQZIHh",
        "colab_type": "code",
        "colab": {},
        "outputId": "2d97db92-17f4-4499-d5cd-10e372aee1de"
      },
      "source": [
        "X.shape, y.shape"
      ],
      "execution_count": 0,
      "outputs": [
        {
          "output_type": "execute_result",
          "data": {
            "text/plain": [
              "((10683, 110), (10683,))"
            ]
          },
          "metadata": {
            "tags": []
          },
          "execution_count": 240
        }
      ]
    },
    {
      "cell_type": "code",
      "metadata": {
        "id": "8-RO2PvSZIHk",
        "colab_type": "code",
        "colab": {}
      },
      "source": [
        "from sklearn.model_selection import train_test_split\n",
        "X_train, X_val, y_train, y_val = train_test_split(X, y, test_size = 0.25, random_state = 2)"
      ],
      "execution_count": 0,
      "outputs": []
    },
    {
      "cell_type": "code",
      "metadata": {
        "id": "RkDTO--kZIHl",
        "colab_type": "code",
        "colab": {},
        "outputId": "d247a0fd-6853-47b9-fe09-4b84fef3c37a"
      },
      "source": [
        "X_train.shape, y_train.shape"
      ],
      "execution_count": 0,
      "outputs": [
        {
          "output_type": "execute_result",
          "data": {
            "text/plain": [
              "((8012, 110), (8012,))"
            ]
          },
          "metadata": {
            "tags": []
          },
          "execution_count": 242
        }
      ]
    },
    {
      "cell_type": "code",
      "metadata": {
        "id": "-O1F_szMZIHo",
        "colab_type": "code",
        "colab": {},
        "outputId": "e74c410e-c446-4985-d71b-47e0b2567d4e"
      },
      "source": [
        "X_val.shape, y_val.shape"
      ],
      "execution_count": 0,
      "outputs": [
        {
          "output_type": "execute_result",
          "data": {
            "text/plain": [
              "((2671, 110), (2671,))"
            ]
          },
          "metadata": {
            "tags": []
          },
          "execution_count": 243
        }
      ]
    },
    {
      "cell_type": "markdown",
      "metadata": {
        "id": "79AGDPiDZIHp",
        "colab_type": "text"
      },
      "source": [
        "## Rescaing"
      ]
    },
    {
      "cell_type": "code",
      "metadata": {
        "id": "AEQx_8w5ZIHq",
        "colab_type": "code",
        "colab": {}
      },
      "source": [
        "#Rescaling Minutes\n",
        "X_train[:,0] /= X_train[:,0].max()\n",
        "X_val[:,0] /= X_val[:,0].max()"
      ],
      "execution_count": 0,
      "outputs": []
    },
    {
      "cell_type": "markdown",
      "metadata": {
        "id": "oTBYJCZsZIHr",
        "colab_type": "text"
      },
      "source": [
        "## Making your own scorer: MSLE"
      ]
    },
    {
      "cell_type": "code",
      "metadata": {
        "id": "S1sW0kNwZIHs",
        "colab_type": "code",
        "colab": {}
      },
      "source": [
        "from sklearn.metrics import make_scorer"
      ],
      "execution_count": 0,
      "outputs": []
    },
    {
      "cell_type": "code",
      "metadata": {
        "id": "5m4CQgtWZIHt",
        "colab_type": "code",
        "colab": {}
      },
      "source": [
        "import math\n",
        "def rmsle(y, y_pred):\n",
        "    assert len(y) == len(y_pred)\n",
        "    terms_to_sum = [(math.log(y_pred[i] + 1) - math.log(y[i] + 1)) ** 2.0 for i,pred in enumerate(y_pred)]\n",
        "    return (sum(terms_to_sum) * (1.0/len(y))) ** 0.5"
      ],
      "execution_count": 0,
      "outputs": []
    },
    {
      "cell_type": "code",
      "metadata": {
        "id": "Ly9dUXjGZIHw",
        "colab_type": "code",
        "colab": {}
      },
      "source": [
        "def rmsle_score(y, y_pred):\n",
        "    return 1 - rmsle(y, y_pred)"
      ],
      "execution_count": 0,
      "outputs": []
    },
    {
      "cell_type": "code",
      "metadata": {
        "id": "i-D-vrVbZIH1",
        "colab_type": "code",
        "colab": {}
      },
      "source": [
        "rmsle_scorer = make_scorer(rmsle_score, greater_is_better = True)"
      ],
      "execution_count": 0,
      "outputs": []
    },
    {
      "cell_type": "markdown",
      "metadata": {
        "id": "1NXgdoOxZIH7",
        "colab_type": "text"
      },
      "source": [
        "## Model 1: RandomForestRegression"
      ]
    },
    {
      "cell_type": "markdown",
      "metadata": {
        "id": "-7GponOzZIH7",
        "colab_type": "text"
      },
      "source": [
        "**NOTE: First we compare the scores with the default settings**"
      ]
    },
    {
      "cell_type": "code",
      "metadata": {
        "id": "PZj80TwbZIH8",
        "colab_type": "code",
        "colab": {}
      },
      "source": [
        "from sklearn.ensemble import RandomForestRegressor"
      ],
      "execution_count": 0,
      "outputs": []
    },
    {
      "cell_type": "code",
      "metadata": {
        "id": "WySKSiwOZIH9",
        "colab_type": "code",
        "colab": {}
      },
      "source": [
        "rfg = RandomForestRegressor()"
      ],
      "execution_count": 0,
      "outputs": []
    },
    {
      "cell_type": "code",
      "metadata": {
        "id": "718xaq55ZIH_",
        "colab_type": "code",
        "colab": {},
        "outputId": "42c65034-08fc-4994-f4a8-3b7f8d25bec4"
      },
      "source": [
        "rfg.fit(X_train, y_train)"
      ],
      "execution_count": 0,
      "outputs": [
        {
          "output_type": "stream",
          "text": [
            "C:\\Users\\HP\\Anaconda3\\lib\\site-packages\\sklearn\\ensemble\\forest.py:245: FutureWarning: The default value of n_estimators will change from 10 in version 0.20 to 100 in 0.22.\n",
            "  \"10 in version 0.20 to 100 in 0.22.\", FutureWarning)\n"
          ],
          "name": "stderr"
        },
        {
          "output_type": "execute_result",
          "data": {
            "text/plain": [
              "RandomForestRegressor(bootstrap=True, criterion='mse', max_depth=None,\n",
              "                      max_features='auto', max_leaf_nodes=None,\n",
              "                      min_impurity_decrease=0.0, min_impurity_split=None,\n",
              "                      min_samples_leaf=1, min_samples_split=2,\n",
              "                      min_weight_fraction_leaf=0.0, n_estimators=10,\n",
              "                      n_jobs=None, oob_score=False, random_state=None,\n",
              "                      verbose=0, warm_start=False)"
            ]
          },
          "metadata": {
            "tags": []
          },
          "execution_count": 251
        }
      ]
    },
    {
      "cell_type": "code",
      "metadata": {
        "id": "YXX9M9nGZIIB",
        "colab_type": "code",
        "colab": {}
      },
      "source": [
        "y_pred = rfg.predict(X_val)"
      ],
      "execution_count": 0,
      "outputs": []
    },
    {
      "cell_type": "code",
      "metadata": {
        "id": "r9_7F_FQZIID",
        "colab_type": "code",
        "colab": {},
        "outputId": "4c32e53b-d5bf-48d9-e5d0-a171a06fb4a7"
      },
      "source": [
        "1 - rmsle(y_val, y_pred)"
      ],
      "execution_count": 0,
      "outputs": [
        {
          "output_type": "execute_result",
          "data": {
            "text/plain": [
              "0.8029106460113965"
            ]
          },
          "metadata": {
            "tags": []
          },
          "execution_count": 253
        }
      ]
    },
    {
      "cell_type": "code",
      "metadata": {
        "id": "lbmTDXmGZIIG",
        "colab_type": "code",
        "colab": {},
        "outputId": "d071b4d0-093b-4b27-a958-c50294224aac"
      },
      "source": [
        "1 - rmsle(rfg.predict(X_train), y_train)"
      ],
      "execution_count": 0,
      "outputs": [
        {
          "output_type": "execute_result",
          "data": {
            "text/plain": [
              "0.8989090812819678"
            ]
          },
          "metadata": {
            "tags": []
          },
          "execution_count": 254
        }
      ]
    },
    {
      "cell_type": "markdown",
      "metadata": {
        "id": "6c7k4DVZZIII",
        "colab_type": "text"
      },
      "source": [
        "## Model 2: Linear Regression"
      ]
    },
    {
      "cell_type": "code",
      "metadata": {
        "id": "uIyLUuCeZIII",
        "colab_type": "code",
        "colab": {}
      },
      "source": [
        "from sklearn.linear_model import LinearRegression"
      ],
      "execution_count": 0,
      "outputs": []
    },
    {
      "cell_type": "code",
      "metadata": {
        "id": "RHyzeV7cZIIK",
        "colab_type": "code",
        "colab": {}
      },
      "source": [
        "lnr = LinearRegression()"
      ],
      "execution_count": 0,
      "outputs": []
    },
    {
      "cell_type": "code",
      "metadata": {
        "id": "UGaXyowLZIIM",
        "colab_type": "code",
        "colab": {},
        "outputId": "f048f481-dcb2-455f-dbcc-acf6297a7729"
      },
      "source": [
        "lnr.fit(X_train, y_train)"
      ],
      "execution_count": 0,
      "outputs": [
        {
          "output_type": "execute_result",
          "data": {
            "text/plain": [
              "LinearRegression(copy_X=True, fit_intercept=True, n_jobs=None, normalize=False)"
            ]
          },
          "metadata": {
            "tags": []
          },
          "execution_count": 257
        }
      ]
    },
    {
      "cell_type": "code",
      "metadata": {
        "id": "8ohC9QjsZIIO",
        "colab_type": "code",
        "colab": {}
      },
      "source": [
        "y_pred = lnr.predict(X_val)"
      ],
      "execution_count": 0,
      "outputs": []
    },
    {
      "cell_type": "code",
      "metadata": {
        "id": "F_dOPGrjZIIQ",
        "colab_type": "code",
        "colab": {},
        "outputId": "3fa7c674-f60a-4e0e-e2b4-6555a68e47c1"
      },
      "source": [
        "1 - rmsle(y_val, y_pred)"
      ],
      "execution_count": 0,
      "outputs": [
        {
          "output_type": "execute_result",
          "data": {
            "text/plain": [
              "-0.25504058234562343"
            ]
          },
          "metadata": {
            "tags": []
          },
          "execution_count": 259
        }
      ]
    },
    {
      "cell_type": "code",
      "metadata": {
        "id": "wGUdO405ZIIR",
        "colab_type": "code",
        "colab": {},
        "outputId": "cfd2340c-79ba-422a-aaf6-b1dfdd8dad4f"
      },
      "source": [
        "1 - rmsle(lnr.predict(X_train), y_train)"
      ],
      "execution_count": 0,
      "outputs": [
        {
          "output_type": "execute_result",
          "data": {
            "text/plain": [
              "0.7542119229930828"
            ]
          },
          "metadata": {
            "tags": []
          },
          "execution_count": 260
        }
      ]
    },
    {
      "cell_type": "markdown",
      "metadata": {
        "id": "tuOvrJTcZIIU",
        "colab_type": "text"
      },
      "source": [
        "## Model3: Ridge Regression"
      ]
    },
    {
      "cell_type": "code",
      "metadata": {
        "id": "KNSzib2FZIIU",
        "colab_type": "code",
        "colab": {}
      },
      "source": [
        "from sklearn.linear_model import Ridge"
      ],
      "execution_count": 0,
      "outputs": []
    },
    {
      "cell_type": "code",
      "metadata": {
        "id": "5_20BvMaZIIV",
        "colab_type": "code",
        "colab": {}
      },
      "source": [
        "rdg = Ridge()"
      ],
      "execution_count": 0,
      "outputs": []
    },
    {
      "cell_type": "code",
      "metadata": {
        "id": "6w0but7KZIIY",
        "colab_type": "code",
        "colab": {},
        "outputId": "9b35abc3-8dcd-4885-ac78-9c6458e6fa43"
      },
      "source": [
        "rdg.fit(X_train, y_train)"
      ],
      "execution_count": 0,
      "outputs": [
        {
          "output_type": "execute_result",
          "data": {
            "text/plain": [
              "Ridge(alpha=1.0, copy_X=True, fit_intercept=True, max_iter=None,\n",
              "      normalize=False, random_state=None, solver='auto', tol=0.001)"
            ]
          },
          "metadata": {
            "tags": []
          },
          "execution_count": 263
        }
      ]
    },
    {
      "cell_type": "code",
      "metadata": {
        "id": "NbtTGf2CZIIa",
        "colab_type": "code",
        "colab": {},
        "outputId": "369e5052-4926-416c-d7c5-55081fe99926"
      },
      "source": [
        "1 - rmsle(rdg.predict(X_val), y_val)"
      ],
      "execution_count": 0,
      "outputs": [
        {
          "output_type": "execute_result",
          "data": {
            "text/plain": [
              "0.7500147953645029"
            ]
          },
          "metadata": {
            "tags": []
          },
          "execution_count": 264
        }
      ]
    },
    {
      "cell_type": "code",
      "metadata": {
        "id": "isDobaykZIIc",
        "colab_type": "code",
        "colab": {},
        "outputId": "6cddf2d2-83fb-448d-938a-fd203f70bbca"
      },
      "source": [
        "1 - rmsle(rdg.predict(X_train), y_train)"
      ],
      "execution_count": 0,
      "outputs": [
        {
          "output_type": "execute_result",
          "data": {
            "text/plain": [
              "0.7538386044936323"
            ]
          },
          "metadata": {
            "tags": []
          },
          "execution_count": 265
        }
      ]
    },
    {
      "cell_type": "markdown",
      "metadata": {
        "id": "npMwpTS2ZIIe",
        "colab_type": "text"
      },
      "source": [
        "## Model4: Lasso"
      ]
    },
    {
      "cell_type": "code",
      "metadata": {
        "id": "ir1WWSfrZIIe",
        "colab_type": "code",
        "colab": {}
      },
      "source": [
        "from sklearn.linear_model import Lasso"
      ],
      "execution_count": 0,
      "outputs": []
    },
    {
      "cell_type": "code",
      "metadata": {
        "id": "5NLmpagRZIIh",
        "colab_type": "code",
        "colab": {}
      },
      "source": [
        "lasso = Lasso()"
      ],
      "execution_count": 0,
      "outputs": []
    },
    {
      "cell_type": "code",
      "metadata": {
        "id": "zxlffWA6ZIIi",
        "colab_type": "code",
        "colab": {},
        "outputId": "192f9343-d3ce-4160-b4be-1654cb6169f9"
      },
      "source": [
        "lasso.fit(X_train, y_train)"
      ],
      "execution_count": 0,
      "outputs": [
        {
          "output_type": "execute_result",
          "data": {
            "text/plain": [
              "Lasso(alpha=1.0, copy_X=True, fit_intercept=True, max_iter=1000,\n",
              "      normalize=False, positive=False, precompute=False, random_state=None,\n",
              "      selection='cyclic', tol=0.0001, warm_start=False)"
            ]
          },
          "metadata": {
            "tags": []
          },
          "execution_count": 268
        }
      ]
    },
    {
      "cell_type": "code",
      "metadata": {
        "id": "or8BcSMvZIIl",
        "colab_type": "code",
        "colab": {},
        "outputId": "68ffd3e9-da9f-4ba9-865c-b75a8f98105f"
      },
      "source": [
        "1 - rmsle(lasso.predict(X_val), y_val)"
      ],
      "execution_count": 0,
      "outputs": [
        {
          "output_type": "execute_result",
          "data": {
            "text/plain": [
              "0.7504583861614842"
            ]
          },
          "metadata": {
            "tags": []
          },
          "execution_count": 269
        }
      ]
    },
    {
      "cell_type": "code",
      "metadata": {
        "id": "m00AwkCqZIIn",
        "colab_type": "code",
        "colab": {},
        "outputId": "9413d001-35f8-49f5-bce4-748b0d128003"
      },
      "source": [
        "1 - rmsle(lasso.predict(X_train), y_train)"
      ],
      "execution_count": 0,
      "outputs": [
        {
          "output_type": "execute_result",
          "data": {
            "text/plain": [
              "0.7536323300302147"
            ]
          },
          "metadata": {
            "tags": []
          },
          "execution_count": 270
        }
      ]
    },
    {
      "cell_type": "markdown",
      "metadata": {
        "id": "WIrH898mZIIo",
        "colab_type": "text"
      },
      "source": [
        "## Model5: SVM Regression"
      ]
    },
    {
      "cell_type": "code",
      "metadata": {
        "id": "s7iDbXmSZIIo",
        "colab_type": "code",
        "colab": {}
      },
      "source": [
        "from sklearn.svm import SVR"
      ],
      "execution_count": 0,
      "outputs": []
    },
    {
      "cell_type": "code",
      "metadata": {
        "id": "k8QwO-ZAZIIr",
        "colab_type": "code",
        "colab": {}
      },
      "source": [
        "svr = SVR()"
      ],
      "execution_count": 0,
      "outputs": []
    },
    {
      "cell_type": "code",
      "metadata": {
        "id": "m5_p2huoZIIt",
        "colab_type": "code",
        "colab": {},
        "outputId": "6231286c-62b9-4b2c-dd59-ceb63c0169bb"
      },
      "source": [
        "svr.fit(X_train, y_train)"
      ],
      "execution_count": 0,
      "outputs": [
        {
          "output_type": "stream",
          "text": [
            "C:\\Users\\HP\\Anaconda3\\lib\\site-packages\\sklearn\\svm\\base.py:193: FutureWarning: The default value of gamma will change from 'auto' to 'scale' in version 0.22 to account better for unscaled features. Set gamma explicitly to 'auto' or 'scale' to avoid this warning.\n",
            "  \"avoid this warning.\", FutureWarning)\n"
          ],
          "name": "stderr"
        },
        {
          "output_type": "execute_result",
          "data": {
            "text/plain": [
              "SVR(C=1.0, cache_size=200, coef0=0.0, degree=3, epsilon=0.1,\n",
              "    gamma='auto_deprecated', kernel='rbf', max_iter=-1, shrinking=True,\n",
              "    tol=0.001, verbose=False)"
            ]
          },
          "metadata": {
            "tags": []
          },
          "execution_count": 273
        }
      ]
    },
    {
      "cell_type": "code",
      "metadata": {
        "id": "ppGfA7jZZIIw",
        "colab_type": "code",
        "colab": {},
        "outputId": "c9ec64f5-ef31-49dd-8448-cb13a95bd54a"
      },
      "source": [
        "1 - rmsle(svr.predict(X_val), y_val)"
      ],
      "execution_count": 0,
      "outputs": [
        {
          "output_type": "execute_result",
          "data": {
            "text/plain": [
              "0.49690598770460115"
            ]
          },
          "metadata": {
            "tags": []
          },
          "execution_count": 274
        }
      ]
    },
    {
      "cell_type": "code",
      "metadata": {
        "id": "oaDjMNqZZIIz",
        "colab_type": "code",
        "colab": {},
        "outputId": "0f3796d0-3a40-4aab-a3d7-5198c1414f7b"
      },
      "source": [
        "1 - rmsle(svr.predict(X_train), y_train)"
      ],
      "execution_count": 0,
      "outputs": [
        {
          "output_type": "execute_result",
          "data": {
            "text/plain": [
              "0.49019738124669476"
            ]
          },
          "metadata": {
            "tags": []
          },
          "execution_count": 275
        }
      ]
    },
    {
      "cell_type": "markdown",
      "metadata": {
        "id": "08D0sGzGZII1",
        "colab_type": "text"
      },
      "source": [
        "## Let's explore RandomForestRegressor a bit"
      ]
    },
    {
      "cell_type": "code",
      "metadata": {
        "id": "ZIZKD12RZII1",
        "colab_type": "code",
        "colab": {}
      },
      "source": [
        "RFnew = RandomForestRegressor(n_estimators=20)"
      ],
      "execution_count": 0,
      "outputs": []
    },
    {
      "cell_type": "code",
      "metadata": {
        "id": "CUpJ_JjmZII2",
        "colab_type": "code",
        "colab": {},
        "outputId": "d3ba0a9b-8253-4cc8-d8e0-4b6ccbc65383"
      },
      "source": [
        "RFnew.fit(X_train, y_train)"
      ],
      "execution_count": 0,
      "outputs": [
        {
          "output_type": "execute_result",
          "data": {
            "text/plain": [
              "RandomForestRegressor(bootstrap=True, criterion='mse', max_depth=None,\n",
              "                      max_features='auto', max_leaf_nodes=None,\n",
              "                      min_impurity_decrease=0.0, min_impurity_split=None,\n",
              "                      min_samples_leaf=1, min_samples_split=2,\n",
              "                      min_weight_fraction_leaf=0.0, n_estimators=20,\n",
              "                      n_jobs=None, oob_score=False, random_state=None,\n",
              "                      verbose=0, warm_start=False)"
            ]
          },
          "metadata": {
            "tags": []
          },
          "execution_count": 277
        }
      ]
    },
    {
      "cell_type": "code",
      "metadata": {
        "id": "v9IKQZ2JZII4",
        "colab_type": "code",
        "colab": {},
        "outputId": "d7798935-7998-4182-adfd-8c3675aa851d"
      },
      "source": [
        "1 - rmsle(RFnew.predict(X_val), y_val)"
      ],
      "execution_count": 0,
      "outputs": [
        {
          "output_type": "execute_result",
          "data": {
            "text/plain": [
              "0.8074519732509694"
            ]
          },
          "metadata": {
            "tags": []
          },
          "execution_count": 278
        }
      ]
    },
    {
      "cell_type": "code",
      "metadata": {
        "id": "gr_1LnNoZII7",
        "colab_type": "code",
        "colab": {},
        "outputId": "ea05a000-0167-43b1-e247-9808e990ff8a"
      },
      "source": [
        "1 - rmsle(RFnew.predict(X_train), y_train)"
      ],
      "execution_count": 0,
      "outputs": [
        {
          "output_type": "execute_result",
          "data": {
            "text/plain": [
              "0.9022468580107086"
            ]
          },
          "metadata": {
            "tags": []
          },
          "execution_count": 279
        }
      ]
    },
    {
      "cell_type": "code",
      "metadata": {
        "id": "uWnN5VwGZII8",
        "colab_type": "code",
        "colab": {},
        "outputId": "5b763bd6-147d-4eba-9721-cf17dac020eb"
      },
      "source": [
        "RFnew = RandomForestRegressor(n_estimators=100, max_depth = 20,min_samples_split = 15, max_features='sqrt',\n",
        "                              min_samples_leaf = 1)\n",
        "RFnew.fit(X_train, y_train)"
      ],
      "execution_count": 0,
      "outputs": [
        {
          "output_type": "execute_result",
          "data": {
            "text/plain": [
              "RandomForestRegressor(bootstrap=True, criterion='mse', max_depth=20,\n",
              "                      max_features='sqrt', max_leaf_nodes=None,\n",
              "                      min_impurity_decrease=0.0, min_impurity_split=None,\n",
              "                      min_samples_leaf=1, min_samples_split=15,\n",
              "                      min_weight_fraction_leaf=0.0, n_estimators=100,\n",
              "                      n_jobs=None, oob_score=False, random_state=None,\n",
              "                      verbose=0, warm_start=False)"
            ]
          },
          "metadata": {
            "tags": []
          },
          "execution_count": 280
        }
      ]
    },
    {
      "cell_type": "code",
      "metadata": {
        "id": "jTaIU_n1ZIJN",
        "colab_type": "code",
        "colab": {},
        "outputId": "b3567bd3-55ab-43cc-9aa0-bc22ee118d7c"
      },
      "source": [
        "1 - rmsle(RFnew.predict(X_val), y_val)"
      ],
      "execution_count": 0,
      "outputs": [
        {
          "output_type": "execute_result",
          "data": {
            "text/plain": [
              "0.813276137359894"
            ]
          },
          "metadata": {
            "tags": []
          },
          "execution_count": 281
        }
      ]
    },
    {
      "cell_type": "code",
      "metadata": {
        "id": "BADzccgKZIJP",
        "colab_type": "code",
        "colab": {},
        "outputId": "90547df7-a282-4848-de1f-7568f743c007"
      },
      "source": [
        "1 - rmsle(RFnew.predict(X_train), y_train)"
      ],
      "execution_count": 0,
      "outputs": [
        {
          "output_type": "execute_result",
          "data": {
            "text/plain": [
              "0.8329802753559952"
            ]
          },
          "metadata": {
            "tags": []
          },
          "execution_count": 282
        }
      ]
    },
    {
      "cell_type": "markdown",
      "metadata": {
        "id": "GzBvP_dPZIJV",
        "colab_type": "text"
      },
      "source": [
        "#### NOTE: The above model was come up with a lot of trials. (Overfits very less)"
      ]
    },
    {
      "cell_type": "markdown",
      "metadata": {
        "id": "SATK2C4jZIJW",
        "colab_type": "text"
      },
      "source": [
        "## Performing Grid Search"
      ]
    },
    {
      "cell_type": "code",
      "metadata": {
        "id": "L1wnrJP1ZIJY",
        "colab_type": "code",
        "colab": {}
      },
      "source": [
        "param_rf = {'n_estimators':[80,110,140,170], 'max_depth':[17,18,19,20],\n",
        "            'min_samples_split':[5,10,20,30,50,80], 'min_samples_leaf':[1,2,3],\n",
        "            'max_features':['log2','sqrt','auto']}"
      ],
      "execution_count": 0,
      "outputs": []
    },
    {
      "cell_type": "code",
      "metadata": {
        "id": "0swEWr3gZIJa",
        "colab_type": "code",
        "colab": {}
      },
      "source": [
        "from sklearn.model_selection import RandomizedSearchCV"
      ],
      "execution_count": 0,
      "outputs": []
    },
    {
      "cell_type": "code",
      "metadata": {
        "id": "tEUXRXtJZIJb",
        "colab_type": "code",
        "colab": {}
      },
      "source": [
        "gridRF = RandomizedSearchCV(estimator = RFnew, param_distributions = param_rf, scoring = rmsle_scorer, n_iter = 40)"
      ],
      "execution_count": 0,
      "outputs": []
    },
    {
      "cell_type": "code",
      "metadata": {
        "id": "lbM84KcWZIJd",
        "colab_type": "code",
        "colab": {},
        "outputId": "ed8b4bc2-133f-4428-a973-2ae38634a2f5"
      },
      "source": [
        "gridRF.fit(X_train, y_train)"
      ],
      "execution_count": 0,
      "outputs": [
        {
          "output_type": "stream",
          "text": [
            "C:\\Users\\HP\\Anaconda3\\lib\\site-packages\\sklearn\\model_selection\\_split.py:1978: FutureWarning: The default value of cv will change from 3 to 5 in version 0.22. Specify it explicitly to silence this warning.\n",
            "  warnings.warn(CV_WARNING, FutureWarning)\n"
          ],
          "name": "stderr"
        },
        {
          "output_type": "execute_result",
          "data": {
            "text/plain": [
              "RandomizedSearchCV(cv='warn', error_score='raise-deprecating',\n",
              "                   estimator=RandomForestRegressor(bootstrap=True,\n",
              "                                                   criterion='mse',\n",
              "                                                   max_depth=20,\n",
              "                                                   max_features='sqrt',\n",
              "                                                   max_leaf_nodes=None,\n",
              "                                                   min_impurity_decrease=0.0,\n",
              "                                                   min_impurity_split=None,\n",
              "                                                   min_samples_leaf=1,\n",
              "                                                   min_samples_split=15,\n",
              "                                                   min_weight_fraction_leaf=0.0,\n",
              "                                                   n_estimators=100,\n",
              "                                                   n_jobs=None, oob_score=False,\n",
              "                                                   random_st...\n",
              "                                                   warm_start=False),\n",
              "                   iid='warn', n_iter=40, n_jobs=None,\n",
              "                   param_distributions={'max_depth': [17, 18, 19, 20],\n",
              "                                        'max_features': ['log2', 'sqrt',\n",
              "                                                         'auto'],\n",
              "                                        'min_samples_leaf': [1, 2, 3],\n",
              "                                        'min_samples_split': [5, 10, 20, 30, 50,\n",
              "                                                              80],\n",
              "                                        'n_estimators': [80, 110, 140, 170]},\n",
              "                   pre_dispatch='2*n_jobs', random_state=None, refit=True,\n",
              "                   return_train_score=False, scoring=make_scorer(rmsle_score),\n",
              "                   verbose=0)"
            ]
          },
          "metadata": {
            "tags": []
          },
          "execution_count": 286
        }
      ]
    },
    {
      "cell_type": "code",
      "metadata": {
        "scrolled": true,
        "id": "ysAu8Gw7ZIJg",
        "colab_type": "code",
        "colab": {},
        "outputId": "2c690f71-6df9-4746-8e7c-5022924bd0a6"
      },
      "source": [
        "gridRF.best_params_"
      ],
      "execution_count": 0,
      "outputs": [
        {
          "output_type": "execute_result",
          "data": {
            "text/plain": [
              "{'n_estimators': 140,\n",
              " 'min_samples_split': 10,\n",
              " 'min_samples_leaf': 1,\n",
              " 'max_features': 'auto',\n",
              " 'max_depth': 18}"
            ]
          },
          "metadata": {
            "tags": []
          },
          "execution_count": 287
        }
      ]
    },
    {
      "cell_type": "code",
      "metadata": {
        "id": "nOXAdUNjZIJi",
        "colab_type": "code",
        "colab": {},
        "outputId": "283e0dfb-09db-46c6-ebb5-9aedf6fbce46"
      },
      "source": [
        "gridRF.score(X_train, y_train)"
      ],
      "execution_count": 0,
      "outputs": [
        {
          "output_type": "execute_result",
          "data": {
            "text/plain": [
              "0.8692245490178301"
            ]
          },
          "metadata": {
            "tags": []
          },
          "execution_count": 288
        }
      ]
    },
    {
      "cell_type": "code",
      "metadata": {
        "id": "xkJewes1ZIJj",
        "colab_type": "code",
        "colab": {},
        "outputId": "8c52353f-60a5-4692-ef24-419d83bde043"
      },
      "source": [
        "gridRF.score(X_val, y_val)"
      ],
      "execution_count": 0,
      "outputs": [
        {
          "output_type": "execute_result",
          "data": {
            "text/plain": [
              "0.8219639575982214"
            ]
          },
          "metadata": {
            "tags": []
          },
          "execution_count": 289
        }
      ]
    },
    {
      "cell_type": "code",
      "metadata": {
        "id": "mR3ORxdAZIJl",
        "colab_type": "code",
        "colab": {},
        "outputId": "d3778839-b4ef-48c7-87de-af76ebd46f6b"
      },
      "source": [
        "gridRF.best_score_"
      ],
      "execution_count": 0,
      "outputs": [
        {
          "output_type": "execute_result",
          "data": {
            "text/plain": [
              "0.8143678906453817"
            ]
          },
          "metadata": {
            "tags": []
          },
          "execution_count": 290
        }
      ]
    },
    {
      "cell_type": "code",
      "metadata": {
        "id": "E2Za7fG_ZIJn",
        "colab_type": "code",
        "colab": {}
      },
      "source": [
        ""
      ],
      "execution_count": 0,
      "outputs": []
    }
  ]
}